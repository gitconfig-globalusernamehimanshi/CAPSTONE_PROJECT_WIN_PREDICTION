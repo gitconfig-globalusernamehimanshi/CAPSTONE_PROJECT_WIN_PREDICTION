{
 "cells": [
  {
   "cell_type": "code",
   "execution_count": 2,
   "id": "156c0bc1",
   "metadata": {},
   "outputs": [],
   "source": [
    "import os as os "
   ]
  },
  {
   "cell_type": "code",
   "execution_count": 3,
   "id": "78219b03",
   "metadata": {},
   "outputs": [],
   "source": [
    "#os.chdir(\"/Users/himanshijain/Desktop/Python Directory\")"
   ]
  },
  {
   "cell_type": "code",
   "execution_count": 4,
   "id": "c883c7d6",
   "metadata": {},
   "outputs": [],
   "source": [
    "#os.getcwd()"
   ]
  },
  {
   "cell_type": "code",
   "execution_count": 1,
   "id": "ac0f3d01",
   "metadata": {},
   "outputs": [],
   "source": [
    "import numpy as np\n",
    "import pandas as pd \n",
    "import matplotlib.pyplot as plt\n",
    "import seaborn as sns \n",
    "import warnings\n",
    "warnings.filterwarnings('ignore')\n",
    "pd.set_option(\"display.max_columns\",None)\n",
    "pd.set_option(\"display.max_rows\",None)\n"
   ]
  },
  {
   "cell_type": "code",
   "execution_count": 2,
   "id": "ad15f993",
   "metadata": {},
   "outputs": [],
   "source": [
    "data=pd.DataFrame(pd.read_excel(\"C:\\\\Users\\\\SYSTEM H822\\\\Downloads\\\\Win_Prediction_Data.xlsx\"))"
   ]
  },
  {
   "cell_type": "code",
   "execution_count": 3,
   "id": "b3a5142f",
   "metadata": {},
   "outputs": [],
   "source": [
    "data_copy=data"
   ]
  },
  {
   "cell_type": "code",
   "execution_count": 4,
   "id": "a96e2d66",
   "metadata": {},
   "outputs": [
    {
     "data": {
      "text/html": [
       "<div>\n",
       "<style scoped>\n",
       "    .dataframe tbody tr th:only-of-type {\n",
       "        vertical-align: middle;\n",
       "    }\n",
       "\n",
       "    .dataframe tbody tr th {\n",
       "        vertical-align: top;\n",
       "    }\n",
       "\n",
       "    .dataframe thead th {\n",
       "        text-align: right;\n",
       "    }\n",
       "</style>\n",
       "<table border=\"1\" class=\"dataframe\">\n",
       "  <thead>\n",
       "    <tr style=\"text-align: right;\">\n",
       "      <th></th>\n",
       "      <th>Client Category</th>\n",
       "      <th>Solution Type</th>\n",
       "      <th>Deal Date</th>\n",
       "      <th>Sector</th>\n",
       "      <th>Location</th>\n",
       "      <th>VP Name</th>\n",
       "      <th>Manager Name</th>\n",
       "      <th>Deal Cost</th>\n",
       "      <th>Deal Status Code</th>\n",
       "    </tr>\n",
       "  </thead>\n",
       "  <tbody>\n",
       "    <tr>\n",
       "      <th>0</th>\n",
       "      <td>Telecom</td>\n",
       "      <td>Solution 7</td>\n",
       "      <td>2012-03-27</td>\n",
       "      <td>Sector 24</td>\n",
       "      <td>L5</td>\n",
       "      <td>Ekta Zutshi</td>\n",
       "      <td>Gopa Trilochana</td>\n",
       "      <td>150000.00</td>\n",
       "      <td>Won</td>\n",
       "    </tr>\n",
       "    <tr>\n",
       "      <th>1</th>\n",
       "      <td>Telecom</td>\n",
       "      <td>Solution 7</td>\n",
       "      <td>2012-09-25</td>\n",
       "      <td>Sector 24</td>\n",
       "      <td>L5</td>\n",
       "      <td>Ekta Zutshi</td>\n",
       "      <td>Gopa Trilochana</td>\n",
       "      <td>744705.88</td>\n",
       "      <td>Won</td>\n",
       "    </tr>\n",
       "    <tr>\n",
       "      <th>2</th>\n",
       "      <td>Internal</td>\n",
       "      <td>Solution 59</td>\n",
       "      <td>2011-08-01</td>\n",
       "      <td>Sector 20</td>\n",
       "      <td>Others</td>\n",
       "      <td>Ekta Zutshi</td>\n",
       "      <td>Russell Dahlen</td>\n",
       "      <td>60000.00</td>\n",
       "      <td>Lost</td>\n",
       "    </tr>\n",
       "    <tr>\n",
       "      <th>3</th>\n",
       "      <td>Internal</td>\n",
       "      <td>Solution 59</td>\n",
       "      <td>2011-04-28</td>\n",
       "      <td>Sector 20</td>\n",
       "      <td>Others</td>\n",
       "      <td>Ekta Zutshi</td>\n",
       "      <td>Russell Dahlen</td>\n",
       "      <td>60000.00</td>\n",
       "      <td>Lost</td>\n",
       "    </tr>\n",
       "    <tr>\n",
       "      <th>4</th>\n",
       "      <td>Internal</td>\n",
       "      <td>Solution 32</td>\n",
       "      <td>2011-06-03</td>\n",
       "      <td>Sector 20</td>\n",
       "      <td>Others</td>\n",
       "      <td>Ekta Zutshi</td>\n",
       "      <td>Russell Dahlen</td>\n",
       "      <td>80882.35</td>\n",
       "      <td>Lost</td>\n",
       "    </tr>\n",
       "  </tbody>\n",
       "</table>\n",
       "</div>"
      ],
      "text/plain": [
       "  Client Category Solution Type  Deal Date     Sector Location      VP Name  \\\n",
       "0         Telecom    Solution 7 2012-03-27  Sector 24       L5  Ekta Zutshi   \n",
       "1         Telecom    Solution 7 2012-09-25  Sector 24       L5  Ekta Zutshi   \n",
       "2        Internal   Solution 59 2011-08-01  Sector 20   Others  Ekta Zutshi   \n",
       "3        Internal   Solution 59 2011-04-28  Sector 20   Others  Ekta Zutshi   \n",
       "4        Internal   Solution 32 2011-06-03  Sector 20   Others  Ekta Zutshi   \n",
       "\n",
       "      Manager Name  Deal Cost Deal Status Code  \n",
       "0  Gopa Trilochana  150000.00              Won  \n",
       "1  Gopa Trilochana  744705.88              Won  \n",
       "2   Russell Dahlen   60000.00             Lost  \n",
       "3   Russell Dahlen   60000.00             Lost  \n",
       "4   Russell Dahlen   80882.35             Lost  "
      ]
     },
     "execution_count": 4,
     "metadata": {},
     "output_type": "execute_result"
    }
   ],
   "source": [
    "data.head()"
   ]
  },
  {
   "cell_type": "markdown",
   "id": "4cbfdf86",
   "metadata": {},
   "source": [
    "# Treating Missing Values "
   ]
  },
  {
   "cell_type": "code",
   "execution_count": 5,
   "id": "84704de1",
   "metadata": {},
   "outputs": [
    {
     "data": {
      "text/plain": [
       "Client Category     79\n",
       "Solution Type        0\n",
       "Deal Date            0\n",
       "Sector               0\n",
       "Location             0\n",
       "VP Name              0\n",
       "Manager Name         0\n",
       "Deal Cost            0\n",
       "Deal Status Code     0\n",
       "dtype: int64"
      ]
     },
     "execution_count": 5,
     "metadata": {},
     "output_type": "execute_result"
    }
   ],
   "source": [
    "data.isnull().sum()"
   ]
  },
  {
   "cell_type": "code",
   "execution_count": 6,
   "id": "83d980eb",
   "metadata": {
    "scrolled": true
   },
   "outputs": [
    {
     "data": {
      "text/plain": [
       "Others                   1763\n",
       "Internal                 1454\n",
       "Services_based           1202\n",
       "Tech                      913\n",
       "Domestic Public Bank      419\n",
       "International Bank        376\n",
       "Consulting                352\n",
       "Finance                   339\n",
       "Telecom                   327\n",
       "Power ind                 264\n",
       "Domestic Private Bank     262\n",
       "Insurance                 247\n",
       "Consumer Good             185\n",
       "Automobiles               178\n",
       "Infrastructure            152\n",
       "Domestic Bank             134\n",
       "Retail_market             126\n",
       "Govt                      121\n",
       "Hospitality               119\n",
       "Manufacturing             117\n",
       "Pharma                    110\n",
       "Healthcare                 99\n",
       "Electronics                81\n",
       "Media_Journal              71\n",
       "Industries                 66\n",
       "Research Development       63\n",
       "Energy                     57\n",
       "Knowledge                  50\n",
       "Management                 43\n",
       "Govt Bank Special          41\n",
       "Payment                    40\n",
       "Energy                     37\n",
       "e-commerce                 32\n",
       "Airpline                   27\n",
       "Holding                    25\n",
       "International Org          25\n",
       "Logistics                  20\n",
       "Real Estate                19\n",
       "Share_market               14\n",
       "Tax_audit                   7\n",
       "Medical                     5\n",
       "Name: Client Category, dtype: int64"
      ]
     },
     "execution_count": 6,
     "metadata": {},
     "output_type": "execute_result"
    }
   ],
   "source": [
    "data['Client Category'].value_counts()"
   ]
  },
  {
   "cell_type": "code",
   "execution_count": 7,
   "id": "8afaa5a0",
   "metadata": {},
   "outputs": [],
   "source": [
    "data[\"Client Category\"].fillna('Others', inplace=True)"
   ]
  },
  {
   "cell_type": "code",
   "execution_count": 8,
   "id": "9e03848b",
   "metadata": {},
   "outputs": [
    {
     "data": {
      "text/plain": [
       "Client Category     0\n",
       "Solution Type       0\n",
       "Deal Date           0\n",
       "Sector              0\n",
       "Location            0\n",
       "VP Name             0\n",
       "Manager Name        0\n",
       "Deal Cost           0\n",
       "Deal Status Code    0\n",
       "dtype: int64"
      ]
     },
     "execution_count": 8,
     "metadata": {},
     "output_type": "execute_result"
    }
   ],
   "source": [
    "data.isnull().sum()"
   ]
  },
  {
   "cell_type": "code",
   "execution_count": 9,
   "id": "e49c1bfb",
   "metadata": {},
   "outputs": [
    {
     "data": {
      "text/plain": [
       "False    9815\n",
       "True      246\n",
       "Name: Deal Cost, dtype: int64"
      ]
     },
     "execution_count": 9,
     "metadata": {},
     "output_type": "execute_result"
    }
   ],
   "source": [
    "(data[\"Deal Cost\"] == 0).value_counts()"
   ]
  },
  {
   "cell_type": "code",
   "execution_count": 10,
   "id": "033788bd",
   "metadata": {},
   "outputs": [
    {
     "data": {
      "text/html": [
       "<div>\n",
       "<style scoped>\n",
       "    .dataframe tbody tr th:only-of-type {\n",
       "        vertical-align: middle;\n",
       "    }\n",
       "\n",
       "    .dataframe tbody tr th {\n",
       "        vertical-align: top;\n",
       "    }\n",
       "\n",
       "    .dataframe thead th {\n",
       "        text-align: right;\n",
       "    }\n",
       "</style>\n",
       "<table border=\"1\" class=\"dataframe\">\n",
       "  <thead>\n",
       "    <tr style=\"text-align: right;\">\n",
       "      <th></th>\n",
       "      <th>Client Category</th>\n",
       "      <th>Solution Type</th>\n",
       "      <th>Deal Date</th>\n",
       "      <th>Sector</th>\n",
       "      <th>Location</th>\n",
       "      <th>VP Name</th>\n",
       "      <th>Manager Name</th>\n",
       "      <th>Deal Cost</th>\n",
       "      <th>Deal Status Code</th>\n",
       "    </tr>\n",
       "  </thead>\n",
       "  <tbody>\n",
       "    <tr>\n",
       "      <th>79</th>\n",
       "      <td>Govt</td>\n",
       "      <td>Solution 37</td>\n",
       "      <td>2011-11-20</td>\n",
       "      <td>Sector 12</td>\n",
       "      <td>L5</td>\n",
       "      <td>Ekta Zutshi</td>\n",
       "      <td>shafibul</td>\n",
       "      <td>0.0</td>\n",
       "      <td>Lost</td>\n",
       "    </tr>\n",
       "    <tr>\n",
       "      <th>95</th>\n",
       "      <td>Others</td>\n",
       "      <td>Solution 31</td>\n",
       "      <td>2011-11-07</td>\n",
       "      <td>Sector 16</td>\n",
       "      <td>L5</td>\n",
       "      <td>Rosanna Maynez</td>\n",
       "      <td>Ankita Aggarwal</td>\n",
       "      <td>0.0</td>\n",
       "      <td>Lost</td>\n",
       "    </tr>\n",
       "    <tr>\n",
       "      <th>139</th>\n",
       "      <td>Govt</td>\n",
       "      <td>Solution 37</td>\n",
       "      <td>2012-02-06</td>\n",
       "      <td>Sector 12</td>\n",
       "      <td>L5</td>\n",
       "      <td>Ekta Zutshi</td>\n",
       "      <td>shafibul</td>\n",
       "      <td>0.0</td>\n",
       "      <td>Lost</td>\n",
       "    </tr>\n",
       "    <tr>\n",
       "      <th>150</th>\n",
       "      <td>Others</td>\n",
       "      <td>Solution 31</td>\n",
       "      <td>2012-03-23</td>\n",
       "      <td>Sector 16</td>\n",
       "      <td>L5</td>\n",
       "      <td>Rosanna Maynez</td>\n",
       "      <td>Ankita Aggarwal</td>\n",
       "      <td>0.0</td>\n",
       "      <td>Lost</td>\n",
       "    </tr>\n",
       "    <tr>\n",
       "      <th>210</th>\n",
       "      <td>Domestic Public Bank</td>\n",
       "      <td>Solution 59</td>\n",
       "      <td>2012-06-12</td>\n",
       "      <td>Sector 2</td>\n",
       "      <td>L10</td>\n",
       "      <td>Mervin Harwood</td>\n",
       "      <td>Lino Batterton</td>\n",
       "      <td>0.0</td>\n",
       "      <td>Lost</td>\n",
       "    </tr>\n",
       "  </tbody>\n",
       "</table>\n",
       "</div>"
      ],
      "text/plain": [
       "          Client Category Solution Type  Deal Date     Sector Location  \\\n",
       "79                   Govt   Solution 37 2011-11-20  Sector 12       L5   \n",
       "95                 Others   Solution 31 2011-11-07  Sector 16       L5   \n",
       "139                  Govt   Solution 37 2012-02-06  Sector 12       L5   \n",
       "150                Others   Solution 31 2012-03-23  Sector 16       L5   \n",
       "210  Domestic Public Bank   Solution 59 2012-06-12   Sector 2      L10   \n",
       "\n",
       "            VP Name     Manager Name  Deal Cost Deal Status Code  \n",
       "79      Ekta Zutshi         shafibul        0.0             Lost  \n",
       "95   Rosanna Maynez  Ankita Aggarwal        0.0             Lost  \n",
       "139     Ekta Zutshi         shafibul        0.0             Lost  \n",
       "150  Rosanna Maynez  Ankita Aggarwal        0.0             Lost  \n",
       "210  Mervin Harwood   Lino Batterton        0.0             Lost  "
      ]
     },
     "execution_count": 10,
     "metadata": {},
     "output_type": "execute_result"
    }
   ],
   "source": [
    "zero= data[data['Deal Cost'] == 0]\n",
    "zero.head()"
   ]
  },
  {
   "cell_type": "code",
   "execution_count": 11,
   "id": "3f976401",
   "metadata": {},
   "outputs": [
    {
     "data": {
      "text/plain": [
       "<AxesSubplot:xlabel='Deal Cost', ylabel='Density'>"
      ]
     },
     "execution_count": 11,
     "metadata": {},
     "output_type": "execute_result"
    },
    {
     "data": {
      "image/png": "[encoded data removed]",
      "text/plain": [
       "<Figure size 432x288 with 1 Axes>"
      ]
     },
     "metadata": {
      "needs_background": "light"
     },
     "output_type": "display_data"
    }
   ],
   "source": [
    "sns.distplot(data[\"Deal Cost\"])"
   ]
  },
  {
   "cell_type": "code",
   "execution_count": 12,
   "id": "485aa76e",
   "metadata": {},
   "outputs": [
    {
     "data": {
      "text/plain": [
       "441176.47"
      ]
     },
     "execution_count": 12,
     "metadata": {},
     "output_type": "execute_result"
    }
   ],
   "source": [
    "median=data[data[\"Deal Cost\"]!=0].groupby(\"Deal Status Code\").median().iloc[0][\"Deal Cost\"]\n",
    "median"
   ]
  },
  {
   "cell_type": "code",
   "execution_count": 13,
   "id": "caa8c65b",
   "metadata": {},
   "outputs": [],
   "source": [
    "def Deal_Cost_Median(Deal_Cost):\n",
    "    if Deal_Cost == 0:\n",
    "        return median\n",
    "    else:\n",
    "        return Deal_Cost"
   ]
  },
  {
   "cell_type": "code",
   "execution_count": 14,
   "id": "b7429148",
   "metadata": {},
   "outputs": [],
   "source": [
    "data['Deal Cost']= data['Deal Cost'].apply(Deal_Cost_Median)"
   ]
  },
  {
   "cell_type": "code",
   "execution_count": 15,
   "id": "7d346103",
   "metadata": {},
   "outputs": [
    {
     "data": {
      "text/html": [
       "<div>\n",
       "<style scoped>\n",
       "    .dataframe tbody tr th:only-of-type {\n",
       "        vertical-align: middle;\n",
       "    }\n",
       "\n",
       "    .dataframe tbody tr th {\n",
       "        vertical-align: top;\n",
       "    }\n",
       "\n",
       "    .dataframe thead th {\n",
       "        text-align: right;\n",
       "    }\n",
       "</style>\n",
       "<table border=\"1\" class=\"dataframe\">\n",
       "  <thead>\n",
       "    <tr style=\"text-align: right;\">\n",
       "      <th></th>\n",
       "      <th>Client Category</th>\n",
       "      <th>Solution Type</th>\n",
       "      <th>Deal Date</th>\n",
       "      <th>Sector</th>\n",
       "      <th>Location</th>\n",
       "      <th>VP Name</th>\n",
       "      <th>Manager Name</th>\n",
       "      <th>Deal Cost</th>\n",
       "      <th>Deal Status Code</th>\n",
       "    </tr>\n",
       "  </thead>\n",
       "  <tbody>\n",
       "    <tr>\n",
       "      <th>0</th>\n",
       "      <td>Telecom</td>\n",
       "      <td>Solution 7</td>\n",
       "      <td>2012-03-27</td>\n",
       "      <td>Sector 24</td>\n",
       "      <td>L5</td>\n",
       "      <td>Ekta Zutshi</td>\n",
       "      <td>Gopa Trilochana</td>\n",
       "      <td>150000.00</td>\n",
       "      <td>Won</td>\n",
       "    </tr>\n",
       "    <tr>\n",
       "      <th>1</th>\n",
       "      <td>Telecom</td>\n",
       "      <td>Solution 7</td>\n",
       "      <td>2012-09-25</td>\n",
       "      <td>Sector 24</td>\n",
       "      <td>L5</td>\n",
       "      <td>Ekta Zutshi</td>\n",
       "      <td>Gopa Trilochana</td>\n",
       "      <td>744705.88</td>\n",
       "      <td>Won</td>\n",
       "    </tr>\n",
       "    <tr>\n",
       "      <th>2</th>\n",
       "      <td>Internal</td>\n",
       "      <td>Solution 59</td>\n",
       "      <td>2011-08-01</td>\n",
       "      <td>Sector 20</td>\n",
       "      <td>Others</td>\n",
       "      <td>Ekta Zutshi</td>\n",
       "      <td>Russell Dahlen</td>\n",
       "      <td>60000.00</td>\n",
       "      <td>Lost</td>\n",
       "    </tr>\n",
       "    <tr>\n",
       "      <th>3</th>\n",
       "      <td>Internal</td>\n",
       "      <td>Solution 59</td>\n",
       "      <td>2011-04-28</td>\n",
       "      <td>Sector 20</td>\n",
       "      <td>Others</td>\n",
       "      <td>Ekta Zutshi</td>\n",
       "      <td>Russell Dahlen</td>\n",
       "      <td>60000.00</td>\n",
       "      <td>Lost</td>\n",
       "    </tr>\n",
       "    <tr>\n",
       "      <th>4</th>\n",
       "      <td>Internal</td>\n",
       "      <td>Solution 32</td>\n",
       "      <td>2011-06-03</td>\n",
       "      <td>Sector 20</td>\n",
       "      <td>Others</td>\n",
       "      <td>Ekta Zutshi</td>\n",
       "      <td>Russell Dahlen</td>\n",
       "      <td>80882.35</td>\n",
       "      <td>Lost</td>\n",
       "    </tr>\n",
       "  </tbody>\n",
       "</table>\n",
       "</div>"
      ],
      "text/plain": [
       "  Client Category Solution Type  Deal Date     Sector Location      VP Name  \\\n",
       "0         Telecom    Solution 7 2012-03-27  Sector 24       L5  Ekta Zutshi   \n",
       "1         Telecom    Solution 7 2012-09-25  Sector 24       L5  Ekta Zutshi   \n",
       "2        Internal   Solution 59 2011-08-01  Sector 20   Others  Ekta Zutshi   \n",
       "3        Internal   Solution 59 2011-04-28  Sector 20   Others  Ekta Zutshi   \n",
       "4        Internal   Solution 32 2011-06-03  Sector 20   Others  Ekta Zutshi   \n",
       "\n",
       "      Manager Name  Deal Cost Deal Status Code  \n",
       "0  Gopa Trilochana  150000.00              Won  \n",
       "1  Gopa Trilochana  744705.88              Won  \n",
       "2   Russell Dahlen   60000.00             Lost  \n",
       "3   Russell Dahlen   60000.00             Lost  \n",
       "4   Russell Dahlen   80882.35             Lost  "
      ]
     },
     "execution_count": 15,
     "metadata": {},
     "output_type": "execute_result"
    }
   ],
   "source": [
    "data.head()"
   ]
  },
  {
   "cell_type": "code",
   "execution_count": 16,
   "id": "2a2e8e94",
   "metadata": {},
   "outputs": [
    {
     "data": {
      "text/plain": [
       "False    10061\n",
       "Name: Deal Cost, dtype: int64"
      ]
     },
     "execution_count": 16,
     "metadata": {},
     "output_type": "execute_result"
    }
   ],
   "source": [
    "(data[\"Deal Cost\"] == 0).value_counts()"
   ]
  },
  {
   "cell_type": "markdown",
   "id": "26dde6cc",
   "metadata": {},
   "source": [
    "# DroppingDeal Date into Day, Month, Year"
   ]
  },
  {
   "cell_type": "code",
   "execution_count": 17,
   "id": "a74a9fc2",
   "metadata": {},
   "outputs": [],
   "source": [
    "#data['Deal Year'] = pd.DatetimeIndex(data['Deal Date']).year\n",
    "#data['Deal Month'] = pd.DatetimeIndex(data['Deal Date']).month\n",
    "#data['Deal Day'] = pd.DatetimeIndex(data[\"Deal Date\"]).day"
   ]
  },
  {
   "cell_type": "code",
   "execution_count": 18,
   "id": "17ac4104",
   "metadata": {},
   "outputs": [],
   "source": [
    "data=data.drop([\"Deal Date\"], axis = 1)"
   ]
  },
  {
   "cell_type": "code",
   "execution_count": 19,
   "id": "0de17279",
   "metadata": {},
   "outputs": [
    {
     "data": {
      "text/html": [
       "<div>\n",
       "<style scoped>\n",
       "    .dataframe tbody tr th:only-of-type {\n",
       "        vertical-align: middle;\n",
       "    }\n",
       "\n",
       "    .dataframe tbody tr th {\n",
       "        vertical-align: top;\n",
       "    }\n",
       "\n",
       "    .dataframe thead th {\n",
       "        text-align: right;\n",
       "    }\n",
       "</style>\n",
       "<table border=\"1\" class=\"dataframe\">\n",
       "  <thead>\n",
       "    <tr style=\"text-align: right;\">\n",
       "      <th></th>\n",
       "      <th>Client Category</th>\n",
       "      <th>Solution Type</th>\n",
       "      <th>Sector</th>\n",
       "      <th>Location</th>\n",
       "      <th>VP Name</th>\n",
       "      <th>Manager Name</th>\n",
       "      <th>Deal Cost</th>\n",
       "      <th>Deal Status Code</th>\n",
       "    </tr>\n",
       "  </thead>\n",
       "  <tbody>\n",
       "    <tr>\n",
       "      <th>0</th>\n",
       "      <td>Telecom</td>\n",
       "      <td>Solution 7</td>\n",
       "      <td>Sector 24</td>\n",
       "      <td>L5</td>\n",
       "      <td>Ekta Zutshi</td>\n",
       "      <td>Gopa Trilochana</td>\n",
       "      <td>150000.00</td>\n",
       "      <td>Won</td>\n",
       "    </tr>\n",
       "    <tr>\n",
       "      <th>1</th>\n",
       "      <td>Telecom</td>\n",
       "      <td>Solution 7</td>\n",
       "      <td>Sector 24</td>\n",
       "      <td>L5</td>\n",
       "      <td>Ekta Zutshi</td>\n",
       "      <td>Gopa Trilochana</td>\n",
       "      <td>744705.88</td>\n",
       "      <td>Won</td>\n",
       "    </tr>\n",
       "    <tr>\n",
       "      <th>2</th>\n",
       "      <td>Internal</td>\n",
       "      <td>Solution 59</td>\n",
       "      <td>Sector 20</td>\n",
       "      <td>Others</td>\n",
       "      <td>Ekta Zutshi</td>\n",
       "      <td>Russell Dahlen</td>\n",
       "      <td>60000.00</td>\n",
       "      <td>Lost</td>\n",
       "    </tr>\n",
       "    <tr>\n",
       "      <th>3</th>\n",
       "      <td>Internal</td>\n",
       "      <td>Solution 59</td>\n",
       "      <td>Sector 20</td>\n",
       "      <td>Others</td>\n",
       "      <td>Ekta Zutshi</td>\n",
       "      <td>Russell Dahlen</td>\n",
       "      <td>60000.00</td>\n",
       "      <td>Lost</td>\n",
       "    </tr>\n",
       "    <tr>\n",
       "      <th>4</th>\n",
       "      <td>Internal</td>\n",
       "      <td>Solution 32</td>\n",
       "      <td>Sector 20</td>\n",
       "      <td>Others</td>\n",
       "      <td>Ekta Zutshi</td>\n",
       "      <td>Russell Dahlen</td>\n",
       "      <td>80882.35</td>\n",
       "      <td>Lost</td>\n",
       "    </tr>\n",
       "  </tbody>\n",
       "</table>\n",
       "</div>"
      ],
      "text/plain": [
       "  Client Category Solution Type     Sector Location      VP Name  \\\n",
       "0         Telecom    Solution 7  Sector 24       L5  Ekta Zutshi   \n",
       "1         Telecom    Solution 7  Sector 24       L5  Ekta Zutshi   \n",
       "2        Internal   Solution 59  Sector 20   Others  Ekta Zutshi   \n",
       "3        Internal   Solution 59  Sector 20   Others  Ekta Zutshi   \n",
       "4        Internal   Solution 32  Sector 20   Others  Ekta Zutshi   \n",
       "\n",
       "      Manager Name  Deal Cost Deal Status Code  \n",
       "0  Gopa Trilochana  150000.00              Won  \n",
       "1  Gopa Trilochana  744705.88              Won  \n",
       "2   Russell Dahlen   60000.00             Lost  \n",
       "3   Russell Dahlen   60000.00             Lost  \n",
       "4   Russell Dahlen   80882.35             Lost  "
      ]
     },
     "execution_count": 19,
     "metadata": {},
     "output_type": "execute_result"
    }
   ],
   "source": [
    "data.head()"
   ]
  },
  {
   "cell_type": "markdown",
   "id": "ed92dc36",
   "metadata": {},
   "source": [
    "# Checking correlation"
   ]
  },
  {
   "cell_type": "code",
   "execution_count": 20,
   "id": "7cda14cb",
   "metadata": {},
   "outputs": [
    {
     "data": {
      "text/html": [
       "<div>\n",
       "<style scoped>\n",
       "    .dataframe tbody tr th:only-of-type {\n",
       "        vertical-align: middle;\n",
       "    }\n",
       "\n",
       "    .dataframe tbody tr th {\n",
       "        vertical-align: top;\n",
       "    }\n",
       "\n",
       "    .dataframe thead th {\n",
       "        text-align: right;\n",
       "    }\n",
       "</style>\n",
       "<table border=\"1\" class=\"dataframe\">\n",
       "  <thead>\n",
       "    <tr style=\"text-align: right;\">\n",
       "      <th></th>\n",
       "      <th>Client Category</th>\n",
       "      <th>Solution Type</th>\n",
       "      <th>Sector</th>\n",
       "      <th>Location</th>\n",
       "      <th>VP Name</th>\n",
       "      <th>Manager Name</th>\n",
       "      <th>Deal Cost</th>\n",
       "      <th>Deal Status Code</th>\n",
       "    </tr>\n",
       "  </thead>\n",
       "  <tbody>\n",
       "    <tr>\n",
       "      <th>Client Category</th>\n",
       "      <td>1.000000</td>\n",
       "      <td>-0.000288</td>\n",
       "      <td>0.415474</td>\n",
       "      <td>-0.058440</td>\n",
       "      <td>0.065936</td>\n",
       "      <td>0.065094</td>\n",
       "      <td>-0.067462</td>\n",
       "      <td>0.066413</td>\n",
       "    </tr>\n",
       "    <tr>\n",
       "      <th>Solution Type</th>\n",
       "      <td>-0.000288</td>\n",
       "      <td>1.000000</td>\n",
       "      <td>-0.005967</td>\n",
       "      <td>-0.062212</td>\n",
       "      <td>0.104661</td>\n",
       "      <td>0.091017</td>\n",
       "      <td>0.076684</td>\n",
       "      <td>0.094455</td>\n",
       "    </tr>\n",
       "    <tr>\n",
       "      <th>Sector</th>\n",
       "      <td>0.415474</td>\n",
       "      <td>-0.005967</td>\n",
       "      <td>1.000000</td>\n",
       "      <td>0.026685</td>\n",
       "      <td>0.068515</td>\n",
       "      <td>0.045726</td>\n",
       "      <td>-0.072981</td>\n",
       "      <td>0.030751</td>\n",
       "    </tr>\n",
       "    <tr>\n",
       "      <th>Location</th>\n",
       "      <td>-0.058440</td>\n",
       "      <td>-0.062212</td>\n",
       "      <td>0.026685</td>\n",
       "      <td>1.000000</td>\n",
       "      <td>0.058452</td>\n",
       "      <td>0.011930</td>\n",
       "      <td>0.025903</td>\n",
       "      <td>0.048104</td>\n",
       "    </tr>\n",
       "    <tr>\n",
       "      <th>VP Name</th>\n",
       "      <td>0.065936</td>\n",
       "      <td>0.104661</td>\n",
       "      <td>0.068515</td>\n",
       "      <td>0.058452</td>\n",
       "      <td>1.000000</td>\n",
       "      <td>0.386554</td>\n",
       "      <td>0.070383</td>\n",
       "      <td>0.033829</td>\n",
       "    </tr>\n",
       "    <tr>\n",
       "      <th>Manager Name</th>\n",
       "      <td>0.065094</td>\n",
       "      <td>0.091017</td>\n",
       "      <td>0.045726</td>\n",
       "      <td>0.011930</td>\n",
       "      <td>0.386554</td>\n",
       "      <td>1.000000</td>\n",
       "      <td>0.098902</td>\n",
       "      <td>-0.017289</td>\n",
       "    </tr>\n",
       "    <tr>\n",
       "      <th>Deal Cost</th>\n",
       "      <td>-0.067462</td>\n",
       "      <td>0.076684</td>\n",
       "      <td>-0.072981</td>\n",
       "      <td>0.025903</td>\n",
       "      <td>0.070383</td>\n",
       "      <td>0.098902</td>\n",
       "      <td>1.000000</td>\n",
       "      <td>-0.202247</td>\n",
       "    </tr>\n",
       "    <tr>\n",
       "      <th>Deal Status Code</th>\n",
       "      <td>0.066413</td>\n",
       "      <td>0.094455</td>\n",
       "      <td>0.030751</td>\n",
       "      <td>0.048104</td>\n",
       "      <td>0.033829</td>\n",
       "      <td>-0.017289</td>\n",
       "      <td>-0.202247</td>\n",
       "      <td>1.000000</td>\n",
       "    </tr>\n",
       "  </tbody>\n",
       "</table>\n",
       "</div>"
      ],
      "text/plain": [
       "                  Client Category  Solution Type    Sector  Location  \\\n",
       "Client Category          1.000000      -0.000288  0.415474 -0.058440   \n",
       "Solution Type           -0.000288       1.000000 -0.005967 -0.062212   \n",
       "Sector                   0.415474      -0.005967  1.000000  0.026685   \n",
       "Location                -0.058440      -0.062212  0.026685  1.000000   \n",
       "VP Name                  0.065936       0.104661  0.068515  0.058452   \n",
       "Manager Name             0.065094       0.091017  0.045726  0.011930   \n",
       "Deal Cost               -0.067462       0.076684 -0.072981  0.025903   \n",
       "Deal Status Code         0.066413       0.094455  0.030751  0.048104   \n",
       "\n",
       "                   VP Name  Manager Name  Deal Cost  Deal Status Code  \n",
       "Client Category   0.065936      0.065094  -0.067462          0.066413  \n",
       "Solution Type     0.104661      0.091017   0.076684          0.094455  \n",
       "Sector            0.068515      0.045726  -0.072981          0.030751  \n",
       "Location          0.058452      0.011930   0.025903          0.048104  \n",
       "VP Name           1.000000      0.386554   0.070383          0.033829  \n",
       "Manager Name      0.386554      1.000000   0.098902         -0.017289  \n",
       "Deal Cost         0.070383      0.098902   1.000000         -0.202247  \n",
       "Deal Status Code  0.033829     -0.017289  -0.202247          1.000000  "
      ]
     },
     "execution_count": 20,
     "metadata": {},
     "output_type": "execute_result"
    }
   ],
   "source": [
    "df1 = data.apply( lambda x : pd.factorize(x)[0]).corr(method = \"pearson\", min_periods = 1); df1"
   ]
  },
  {
   "cell_type": "code",
   "execution_count": 21,
   "id": "8890ceee",
   "metadata": {
    "scrolled": false
   },
   "outputs": [
    {
     "data": {
      "text/plain": [
       "<AxesSubplot:>"
      ]
     },
     "execution_count": 21,
     "metadata": {},
     "output_type": "execute_result"
    },
    {
     "data": {
      "image/png": "[encoded data removed]",
      "text/plain": [
       "<Figure size 720x360 with 2 Axes>"
      ]
     },
     "metadata": {
      "needs_background": "light"
     },
     "output_type": "display_data"
    }
   ],
   "source": [
    "plt.figure(figsize=(10,5))\n",
    "sns.heatmap(df1,cmap=\"Spectral\",annot = True)"
   ]
  },
  {
   "cell_type": "code",
   "execution_count": 24,
   "id": "025cd903",
   "metadata": {},
   "outputs": [
    {
     "data": {
      "text/html": [
       "<div>\n",
       "<style scoped>\n",
       "    .dataframe tbody tr th:only-of-type {\n",
       "        vertical-align: middle;\n",
       "    }\n",
       "\n",
       "    .dataframe tbody tr th {\n",
       "        vertical-align: top;\n",
       "    }\n",
       "\n",
       "    .dataframe thead th {\n",
       "        text-align: right;\n",
       "    }\n",
       "</style>\n",
       "<table border=\"1\" class=\"dataframe\">\n",
       "  <thead>\n",
       "    <tr style=\"text-align: right;\">\n",
       "      <th></th>\n",
       "      <th>Client Category</th>\n",
       "      <th>Solution Type</th>\n",
       "      <th>Sector</th>\n",
       "      <th>Location</th>\n",
       "      <th>VP Name</th>\n",
       "      <th>Manager Name</th>\n",
       "      <th>Deal Cost</th>\n",
       "      <th>Deal Status Code</th>\n",
       "    </tr>\n",
       "  </thead>\n",
       "  <tbody>\n",
       "    <tr>\n",
       "      <th>0</th>\n",
       "      <td>Telecom</td>\n",
       "      <td>Solution 7</td>\n",
       "      <td>Sector 24</td>\n",
       "      <td>L5</td>\n",
       "      <td>Ekta Zutshi</td>\n",
       "      <td>Gopa Trilochana</td>\n",
       "      <td>150000.00</td>\n",
       "      <td>Won</td>\n",
       "    </tr>\n",
       "    <tr>\n",
       "      <th>1</th>\n",
       "      <td>Telecom</td>\n",
       "      <td>Solution 7</td>\n",
       "      <td>Sector 24</td>\n",
       "      <td>L5</td>\n",
       "      <td>Ekta Zutshi</td>\n",
       "      <td>Gopa Trilochana</td>\n",
       "      <td>744705.88</td>\n",
       "      <td>Won</td>\n",
       "    </tr>\n",
       "    <tr>\n",
       "      <th>2</th>\n",
       "      <td>Internal</td>\n",
       "      <td>Solution 59</td>\n",
       "      <td>Sector 20</td>\n",
       "      <td>Others</td>\n",
       "      <td>Ekta Zutshi</td>\n",
       "      <td>Russell Dahlen</td>\n",
       "      <td>60000.00</td>\n",
       "      <td>Lost</td>\n",
       "    </tr>\n",
       "    <tr>\n",
       "      <th>3</th>\n",
       "      <td>Internal</td>\n",
       "      <td>Solution 59</td>\n",
       "      <td>Sector 20</td>\n",
       "      <td>Others</td>\n",
       "      <td>Ekta Zutshi</td>\n",
       "      <td>Russell Dahlen</td>\n",
       "      <td>60000.00</td>\n",
       "      <td>Lost</td>\n",
       "    </tr>\n",
       "    <tr>\n",
       "      <th>4</th>\n",
       "      <td>Internal</td>\n",
       "      <td>Solution 32</td>\n",
       "      <td>Sector 20</td>\n",
       "      <td>Others</td>\n",
       "      <td>Ekta Zutshi</td>\n",
       "      <td>Russell Dahlen</td>\n",
       "      <td>80882.35</td>\n",
       "      <td>Lost</td>\n",
       "    </tr>\n",
       "  </tbody>\n",
       "</table>\n",
       "</div>"
      ],
      "text/plain": [
       "  Client Category Solution Type     Sector Location      VP Name  \\\n",
       "0         Telecom    Solution 7  Sector 24       L5  Ekta Zutshi   \n",
       "1         Telecom    Solution 7  Sector 24       L5  Ekta Zutshi   \n",
       "2        Internal   Solution 59  Sector 20   Others  Ekta Zutshi   \n",
       "3        Internal   Solution 59  Sector 20   Others  Ekta Zutshi   \n",
       "4        Internal   Solution 32  Sector 20   Others  Ekta Zutshi   \n",
       "\n",
       "      Manager Name  Deal Cost Deal Status Code  \n",
       "0  Gopa Trilochana  150000.00              Won  \n",
       "1  Gopa Trilochana  744705.88              Won  \n",
       "2   Russell Dahlen   60000.00             Lost  \n",
       "3   Russell Dahlen   60000.00             Lost  \n",
       "4   Russell Dahlen   80882.35             Lost  "
      ]
     },
     "execution_count": 24,
     "metadata": {},
     "output_type": "execute_result"
    }
   ],
   "source": [
    "data.head()"
   ]
  },
  {
   "cell_type": "code",
   "execution_count": 27,
   "id": "59cac3ee",
   "metadata": {
    "scrolled": true
   },
   "outputs": [],
   "source": [
    "#!pip install category_encoders"
   ]
  },
  {
   "cell_type": "code",
   "execution_count": 28,
   "id": "7b75e1e0",
   "metadata": {},
   "outputs": [],
   "source": [
    "data[\"Deal Status Code\"]=data[\"Deal Status Code\"].map({\"Won\":1,\"Lost\":0})"
   ]
  },
  {
   "cell_type": "code",
   "execution_count": 29,
   "id": "29a1029b",
   "metadata": {
    "scrolled": true
   },
   "outputs": [
    {
     "data": {
      "text/html": [
       "<div>\n",
       "<style scoped>\n",
       "    .dataframe tbody tr th:only-of-type {\n",
       "        vertical-align: middle;\n",
       "    }\n",
       "\n",
       "    .dataframe tbody tr th {\n",
       "        vertical-align: top;\n",
       "    }\n",
       "\n",
       "    .dataframe thead th {\n",
       "        text-align: right;\n",
       "    }\n",
       "</style>\n",
       "<table border=\"1\" class=\"dataframe\">\n",
       "  <thead>\n",
       "    <tr style=\"text-align: right;\">\n",
       "      <th></th>\n",
       "      <th>Client Category</th>\n",
       "      <th>Solution Type</th>\n",
       "      <th>Sector</th>\n",
       "      <th>Location</th>\n",
       "      <th>VP Name</th>\n",
       "      <th>Manager Name</th>\n",
       "      <th>Deal Cost</th>\n",
       "      <th>Deal Status Code</th>\n",
       "    </tr>\n",
       "  </thead>\n",
       "  <tbody>\n",
       "    <tr>\n",
       "      <th>0</th>\n",
       "      <td>Telecom</td>\n",
       "      <td>Solution 7</td>\n",
       "      <td>Sector 24</td>\n",
       "      <td>L5</td>\n",
       "      <td>Ekta Zutshi</td>\n",
       "      <td>Gopa Trilochana</td>\n",
       "      <td>150000.00</td>\n",
       "      <td>1</td>\n",
       "    </tr>\n",
       "    <tr>\n",
       "      <th>1</th>\n",
       "      <td>Telecom</td>\n",
       "      <td>Solution 7</td>\n",
       "      <td>Sector 24</td>\n",
       "      <td>L5</td>\n",
       "      <td>Ekta Zutshi</td>\n",
       "      <td>Gopa Trilochana</td>\n",
       "      <td>744705.88</td>\n",
       "      <td>1</td>\n",
       "    </tr>\n",
       "    <tr>\n",
       "      <th>2</th>\n",
       "      <td>Internal</td>\n",
       "      <td>Solution 59</td>\n",
       "      <td>Sector 20</td>\n",
       "      <td>Others</td>\n",
       "      <td>Ekta Zutshi</td>\n",
       "      <td>Russell Dahlen</td>\n",
       "      <td>60000.00</td>\n",
       "      <td>0</td>\n",
       "    </tr>\n",
       "    <tr>\n",
       "      <th>3</th>\n",
       "      <td>Internal</td>\n",
       "      <td>Solution 59</td>\n",
       "      <td>Sector 20</td>\n",
       "      <td>Others</td>\n",
       "      <td>Ekta Zutshi</td>\n",
       "      <td>Russell Dahlen</td>\n",
       "      <td>60000.00</td>\n",
       "      <td>0</td>\n",
       "    </tr>\n",
       "    <tr>\n",
       "      <th>4</th>\n",
       "      <td>Internal</td>\n",
       "      <td>Solution 32</td>\n",
       "      <td>Sector 20</td>\n",
       "      <td>Others</td>\n",
       "      <td>Ekta Zutshi</td>\n",
       "      <td>Russell Dahlen</td>\n",
       "      <td>80882.35</td>\n",
       "      <td>0</td>\n",
       "    </tr>\n",
       "  </tbody>\n",
       "</table>\n",
       "</div>"
      ],
      "text/plain": [
       "  Client Category Solution Type     Sector Location      VP Name  \\\n",
       "0         Telecom    Solution 7  Sector 24       L5  Ekta Zutshi   \n",
       "1         Telecom    Solution 7  Sector 24       L5  Ekta Zutshi   \n",
       "2        Internal   Solution 59  Sector 20   Others  Ekta Zutshi   \n",
       "3        Internal   Solution 59  Sector 20   Others  Ekta Zutshi   \n",
       "4        Internal   Solution 32  Sector 20   Others  Ekta Zutshi   \n",
       "\n",
       "      Manager Name  Deal Cost  Deal Status Code  \n",
       "0  Gopa Trilochana  150000.00                 1  \n",
       "1  Gopa Trilochana  744705.88                 1  \n",
       "2   Russell Dahlen   60000.00                 0  \n",
       "3   Russell Dahlen   60000.00                 0  \n",
       "4   Russell Dahlen   80882.35                 0  "
      ]
     },
     "execution_count": 29,
     "metadata": {},
     "output_type": "execute_result"
    }
   ],
   "source": [
    "data.head()"
   ]
  },
  {
   "cell_type": "markdown",
   "id": "d1097468",
   "metadata": {},
   "source": [
    "# Target Encoding"
   ]
  },
  {
   "cell_type": "code",
   "execution_count": 30,
   "id": "d756c212",
   "metadata": {},
   "outputs": [],
   "source": [
    "#!pip install category_encoders"
   ]
  },
  {
   "cell_type": "code",
   "execution_count": 31,
   "id": "46a1e1ff",
   "metadata": {},
   "outputs": [],
   "source": [
    "from category_encoders import TargetEncoder\n",
    "cols= [\"Solution Type\",\"Client Category\",\"Sector\",\"Location\",\"VP Name\",\"Manager Name\"] \n",
    "target= 'Deal Status Code'\n",
    "for col in cols:\n",
    "    te= TargetEncoder()\n",
    "    te.fit(X=data[cols], y=data[target])\n",
    "    values = te.transform(data[cols])\n"
   ]
  },
  {
   "cell_type": "code",
   "execution_count": 32,
   "id": "442b695a",
   "metadata": {},
   "outputs": [
    {
     "data": {
      "text/html": [
       "<div>\n",
       "<style scoped>\n",
       "    .dataframe tbody tr th:only-of-type {\n",
       "        vertical-align: middle;\n",
       "    }\n",
       "\n",
       "    .dataframe tbody tr th {\n",
       "        vertical-align: top;\n",
       "    }\n",
       "\n",
       "    .dataframe thead th {\n",
       "        text-align: right;\n",
       "    }\n",
       "</style>\n",
       "<table border=\"1\" class=\"dataframe\">\n",
       "  <thead>\n",
       "    <tr style=\"text-align: right;\">\n",
       "      <th></th>\n",
       "      <th>Solution Type</th>\n",
       "      <th>Client Category</th>\n",
       "      <th>Sector</th>\n",
       "      <th>Location</th>\n",
       "      <th>VP Name</th>\n",
       "      <th>Manager Name</th>\n",
       "    </tr>\n",
       "  </thead>\n",
       "  <tbody>\n",
       "    <tr>\n",
       "      <th>0</th>\n",
       "      <td>0.348315</td>\n",
       "      <td>0.412844</td>\n",
       "      <td>0.377163</td>\n",
       "      <td>0.402062</td>\n",
       "      <td>0.625455</td>\n",
       "      <td>0.418605</td>\n",
       "    </tr>\n",
       "    <tr>\n",
       "      <th>1</th>\n",
       "      <td>0.348315</td>\n",
       "      <td>0.412844</td>\n",
       "      <td>0.377163</td>\n",
       "      <td>0.402062</td>\n",
       "      <td>0.625455</td>\n",
       "      <td>0.418605</td>\n",
       "    </tr>\n",
       "    <tr>\n",
       "      <th>2</th>\n",
       "      <td>0.322176</td>\n",
       "      <td>0.522696</td>\n",
       "      <td>0.503234</td>\n",
       "      <td>0.478580</td>\n",
       "      <td>0.625455</td>\n",
       "      <td>0.636364</td>\n",
       "    </tr>\n",
       "    <tr>\n",
       "      <th>3</th>\n",
       "      <td>0.322176</td>\n",
       "      <td>0.522696</td>\n",
       "      <td>0.503234</td>\n",
       "      <td>0.478580</td>\n",
       "      <td>0.625455</td>\n",
       "      <td>0.636364</td>\n",
       "    </tr>\n",
       "    <tr>\n",
       "      <th>4</th>\n",
       "      <td>0.564976</td>\n",
       "      <td>0.522696</td>\n",
       "      <td>0.503234</td>\n",
       "      <td>0.478580</td>\n",
       "      <td>0.625455</td>\n",
       "      <td>0.636364</td>\n",
       "    </tr>\n",
       "  </tbody>\n",
       "</table>\n",
       "</div>"
      ],
      "text/plain": [
       "   Solution Type  Client Category    Sector  Location   VP Name  Manager Name\n",
       "0       0.348315         0.412844  0.377163  0.402062  0.625455      0.418605\n",
       "1       0.348315         0.412844  0.377163  0.402062  0.625455      0.418605\n",
       "2       0.322176         0.522696  0.503234  0.478580  0.625455      0.636364\n",
       "3       0.322176         0.522696  0.503234  0.478580  0.625455      0.636364\n",
       "4       0.564976         0.522696  0.503234  0.478580  0.625455      0.636364"
      ]
     },
     "execution_count": 32,
     "metadata": {},
     "output_type": "execute_result"
    }
   ],
   "source": [
    "values.head()"
   ]
  },
  {
   "cell_type": "code",
   "execution_count": 33,
   "id": "c39ddc9f",
   "metadata": {},
   "outputs": [
    {
     "data": {
      "text/html": [
       "<div>\n",
       "<style scoped>\n",
       "    .dataframe tbody tr th:only-of-type {\n",
       "        vertical-align: middle;\n",
       "    }\n",
       "\n",
       "    .dataframe tbody tr th {\n",
       "        vertical-align: top;\n",
       "    }\n",
       "\n",
       "    .dataframe thead th {\n",
       "        text-align: right;\n",
       "    }\n",
       "</style>\n",
       "<table border=\"1\" class=\"dataframe\">\n",
       "  <thead>\n",
       "    <tr style=\"text-align: right;\">\n",
       "      <th></th>\n",
       "      <th>Client Category</th>\n",
       "      <th>Solution Type</th>\n",
       "      <th>Sector</th>\n",
       "      <th>Location</th>\n",
       "      <th>VP Name</th>\n",
       "      <th>Manager Name</th>\n",
       "      <th>Deal Cost</th>\n",
       "      <th>Deal Status Code</th>\n",
       "    </tr>\n",
       "  </thead>\n",
       "  <tbody>\n",
       "    <tr>\n",
       "      <th>0</th>\n",
       "      <td>Telecom</td>\n",
       "      <td>Solution 7</td>\n",
       "      <td>Sector 24</td>\n",
       "      <td>L5</td>\n",
       "      <td>Ekta Zutshi</td>\n",
       "      <td>Gopa Trilochana</td>\n",
       "      <td>150000.00</td>\n",
       "      <td>1</td>\n",
       "    </tr>\n",
       "    <tr>\n",
       "      <th>1</th>\n",
       "      <td>Telecom</td>\n",
       "      <td>Solution 7</td>\n",
       "      <td>Sector 24</td>\n",
       "      <td>L5</td>\n",
       "      <td>Ekta Zutshi</td>\n",
       "      <td>Gopa Trilochana</td>\n",
       "      <td>744705.88</td>\n",
       "      <td>1</td>\n",
       "    </tr>\n",
       "    <tr>\n",
       "      <th>2</th>\n",
       "      <td>Internal</td>\n",
       "      <td>Solution 59</td>\n",
       "      <td>Sector 20</td>\n",
       "      <td>Others</td>\n",
       "      <td>Ekta Zutshi</td>\n",
       "      <td>Russell Dahlen</td>\n",
       "      <td>60000.00</td>\n",
       "      <td>0</td>\n",
       "    </tr>\n",
       "    <tr>\n",
       "      <th>3</th>\n",
       "      <td>Internal</td>\n",
       "      <td>Solution 59</td>\n",
       "      <td>Sector 20</td>\n",
       "      <td>Others</td>\n",
       "      <td>Ekta Zutshi</td>\n",
       "      <td>Russell Dahlen</td>\n",
       "      <td>60000.00</td>\n",
       "      <td>0</td>\n",
       "    </tr>\n",
       "    <tr>\n",
       "      <th>4</th>\n",
       "      <td>Internal</td>\n",
       "      <td>Solution 32</td>\n",
       "      <td>Sector 20</td>\n",
       "      <td>Others</td>\n",
       "      <td>Ekta Zutshi</td>\n",
       "      <td>Russell Dahlen</td>\n",
       "      <td>80882.35</td>\n",
       "      <td>0</td>\n",
       "    </tr>\n",
       "  </tbody>\n",
       "</table>\n",
       "</div>"
      ],
      "text/plain": [
       "  Client Category Solution Type     Sector Location      VP Name  \\\n",
       "0         Telecom    Solution 7  Sector 24       L5  Ekta Zutshi   \n",
       "1         Telecom    Solution 7  Sector 24       L5  Ekta Zutshi   \n",
       "2        Internal   Solution 59  Sector 20   Others  Ekta Zutshi   \n",
       "3        Internal   Solution 59  Sector 20   Others  Ekta Zutshi   \n",
       "4        Internal   Solution 32  Sector 20   Others  Ekta Zutshi   \n",
       "\n",
       "      Manager Name  Deal Cost  Deal Status Code  \n",
       "0  Gopa Trilochana  150000.00                 1  \n",
       "1  Gopa Trilochana  744705.88                 1  \n",
       "2   Russell Dahlen   60000.00                 0  \n",
       "3   Russell Dahlen   60000.00                 0  \n",
       "4   Russell Dahlen   80882.35                 0  "
      ]
     },
     "execution_count": 33,
     "metadata": {},
     "output_type": "execute_result"
    }
   ],
   "source": [
    "data.head()"
   ]
  },
  {
   "cell_type": "code",
   "execution_count": 34,
   "id": "cbffbba6",
   "metadata": {},
   "outputs": [],
   "source": [
    "data=data.drop([\"Solution Type\",\"Location\",\"Client Category\",\"Sector\",\"VP Name\", \"Manager Name\"], axis = 1) # add VP_Manager_Name, add Client_Sector_Category"
   ]
  },
  {
   "cell_type": "code",
   "execution_count": 35,
   "id": "96c46d8d",
   "metadata": {},
   "outputs": [],
   "source": [
    "df=pd.concat([data,values],axis =1)"
   ]
  },
  {
   "cell_type": "code",
   "execution_count": 36,
   "id": "1e8c937f",
   "metadata": {},
   "outputs": [
    {
     "data": {
      "text/html": [
       "<div>\n",
       "<style scoped>\n",
       "    .dataframe tbody tr th:only-of-type {\n",
       "        vertical-align: middle;\n",
       "    }\n",
       "\n",
       "    .dataframe tbody tr th {\n",
       "        vertical-align: top;\n",
       "    }\n",
       "\n",
       "    .dataframe thead th {\n",
       "        text-align: right;\n",
       "    }\n",
       "</style>\n",
       "<table border=\"1\" class=\"dataframe\">\n",
       "  <thead>\n",
       "    <tr style=\"text-align: right;\">\n",
       "      <th></th>\n",
       "      <th>Deal Cost</th>\n",
       "      <th>Deal Status Code</th>\n",
       "      <th>Solution Type</th>\n",
       "      <th>Client Category</th>\n",
       "      <th>Sector</th>\n",
       "      <th>Location</th>\n",
       "      <th>VP Name</th>\n",
       "      <th>Manager Name</th>\n",
       "    </tr>\n",
       "  </thead>\n",
       "  <tbody>\n",
       "    <tr>\n",
       "      <th>0</th>\n",
       "      <td>150000.00</td>\n",
       "      <td>1</td>\n",
       "      <td>0.348315</td>\n",
       "      <td>0.412844</td>\n",
       "      <td>0.377163</td>\n",
       "      <td>0.402062</td>\n",
       "      <td>0.625455</td>\n",
       "      <td>0.418605</td>\n",
       "    </tr>\n",
       "    <tr>\n",
       "      <th>1</th>\n",
       "      <td>744705.88</td>\n",
       "      <td>1</td>\n",
       "      <td>0.348315</td>\n",
       "      <td>0.412844</td>\n",
       "      <td>0.377163</td>\n",
       "      <td>0.402062</td>\n",
       "      <td>0.625455</td>\n",
       "      <td>0.418605</td>\n",
       "    </tr>\n",
       "    <tr>\n",
       "      <th>2</th>\n",
       "      <td>60000.00</td>\n",
       "      <td>0</td>\n",
       "      <td>0.322176</td>\n",
       "      <td>0.522696</td>\n",
       "      <td>0.503234</td>\n",
       "      <td>0.478580</td>\n",
       "      <td>0.625455</td>\n",
       "      <td>0.636364</td>\n",
       "    </tr>\n",
       "    <tr>\n",
       "      <th>3</th>\n",
       "      <td>60000.00</td>\n",
       "      <td>0</td>\n",
       "      <td>0.322176</td>\n",
       "      <td>0.522696</td>\n",
       "      <td>0.503234</td>\n",
       "      <td>0.478580</td>\n",
       "      <td>0.625455</td>\n",
       "      <td>0.636364</td>\n",
       "    </tr>\n",
       "    <tr>\n",
       "      <th>4</th>\n",
       "      <td>80882.35</td>\n",
       "      <td>0</td>\n",
       "      <td>0.564976</td>\n",
       "      <td>0.522696</td>\n",
       "      <td>0.503234</td>\n",
       "      <td>0.478580</td>\n",
       "      <td>0.625455</td>\n",
       "      <td>0.636364</td>\n",
       "    </tr>\n",
       "  </tbody>\n",
       "</table>\n",
       "</div>"
      ],
      "text/plain": [
       "   Deal Cost  Deal Status Code  Solution Type  Client Category    Sector  \\\n",
       "0  150000.00                 1       0.348315         0.412844  0.377163   \n",
       "1  744705.88                 1       0.348315         0.412844  0.377163   \n",
       "2   60000.00                 0       0.322176         0.522696  0.503234   \n",
       "3   60000.00                 0       0.322176         0.522696  0.503234   \n",
       "4   80882.35                 0       0.564976         0.522696  0.503234   \n",
       "\n",
       "   Location   VP Name  Manager Name  \n",
       "0  0.402062  0.625455      0.418605  \n",
       "1  0.402062  0.625455      0.418605  \n",
       "2  0.478580  0.625455      0.636364  \n",
       "3  0.478580  0.625455      0.636364  \n",
       "4  0.478580  0.625455      0.636364  "
      ]
     },
     "execution_count": 36,
     "metadata": {},
     "output_type": "execute_result"
    }
   ],
   "source": [
    "df.head()"
   ]
  },
  {
   "cell_type": "markdown",
   "id": "226e8cf5",
   "metadata": {},
   "source": [
    "# Checking target variable "
   ]
  },
  {
   "cell_type": "code",
   "execution_count": 37,
   "id": "64582aa1",
   "metadata": {},
   "outputs": [
    {
     "data": {
      "text/plain": [
       "0    6306\n",
       "1    3755\n",
       "Name: Deal Status Code, dtype: int64"
      ]
     },
     "execution_count": 37,
     "metadata": {},
     "output_type": "execute_result"
    }
   ],
   "source": [
    "df[\"Deal Status Code\"].value_counts()"
   ]
  },
  {
   "cell_type": "code",
   "execution_count": 38,
   "id": "0b21693b",
   "metadata": {},
   "outputs": [],
   "source": [
    "deal_status_code_Won=df[df[\"Deal Status Code\"]== 1]\n",
    "deal_status_code_Lost=df[df[\"Deal Status Code\"]== 0]"
   ]
  },
  {
   "cell_type": "code",
   "execution_count": 39,
   "id": "a2ef5c06",
   "metadata": {},
   "outputs": [
    {
     "data": {
      "text/plain": [
       "(3755, 8)"
      ]
     },
     "execution_count": 39,
     "metadata": {},
     "output_type": "execute_result"
    }
   ],
   "source": [
    "deal_status_code_Won.shape\n"
   ]
  },
  {
   "cell_type": "code",
   "execution_count": 40,
   "id": "85c522c9",
   "metadata": {},
   "outputs": [
    {
     "data": {
      "text/plain": [
       "(6306, 8)"
      ]
     },
     "execution_count": 40,
     "metadata": {},
     "output_type": "execute_result"
    }
   ],
   "source": [
    "deal_status_code_Lost.shape"
   ]
  },
  {
   "cell_type": "code",
   "execution_count": 41,
   "id": "4ec166c0",
   "metadata": {},
   "outputs": [],
   "source": [
    "count_deal_status_code_0, count_deal_status_code_1= df[\"Deal Status Code\"].value_counts()"
   ]
  },
  {
   "cell_type": "code",
   "execution_count": 42,
   "id": "6d5518a3",
   "metadata": {},
   "outputs": [
    {
     "data": {
      "text/plain": [
       "6306"
      ]
     },
     "execution_count": 42,
     "metadata": {},
     "output_type": "execute_result"
    }
   ],
   "source": [
    "count_deal_status_code_0"
   ]
  },
  {
   "cell_type": "code",
   "execution_count": 43,
   "id": "9240e84a",
   "metadata": {},
   "outputs": [
    {
     "data": {
      "text/plain": [
       "3755"
      ]
     },
     "execution_count": 43,
     "metadata": {},
     "output_type": "execute_result"
    }
   ],
   "source": [
    "count_deal_status_code_1"
   ]
  },
  {
   "cell_type": "markdown",
   "id": "eac3223f",
   "metadata": {},
   "source": [
    "# Under Sampling"
   ]
  },
  {
   "cell_type": "code",
   "execution_count": 44,
   "id": "6ccd51be",
   "metadata": {},
   "outputs": [],
   "source": [
    "deal_status_code_Lost_under_sampled=deal_status_code_Lost.sample(count_deal_status_code_1)"
   ]
  },
  {
   "cell_type": "code",
   "execution_count": 45,
   "id": "95809134",
   "metadata": {},
   "outputs": [
    {
     "data": {
      "text/plain": [
       "(3755, 8)"
      ]
     },
     "execution_count": 45,
     "metadata": {},
     "output_type": "execute_result"
    }
   ],
   "source": [
    "deal_status_code_Lost_under_sampled.shape"
   ]
  },
  {
   "cell_type": "markdown",
   "id": "8b91aedd",
   "metadata": {},
   "source": [
    "# Over Sampling"
   ]
  },
  {
   "cell_type": "code",
   "execution_count": 46,
   "id": "d6d9d798",
   "metadata": {},
   "outputs": [],
   "source": [
    "deal_status_code_Won_over_sampled=deal_status_code_Won.sample((count_deal_status_code_0), replace = True)"
   ]
  },
  {
   "cell_type": "code",
   "execution_count": 47,
   "id": "2aeda760",
   "metadata": {},
   "outputs": [
    {
     "data": {
      "text/plain": [
       "(6306, 8)"
      ]
     },
     "execution_count": 47,
     "metadata": {},
     "output_type": "execute_result"
    }
   ],
   "source": [
    "deal_status_code_Won_over_sampled.shape"
   ]
  },
  {
   "cell_type": "code",
   "execution_count": 48,
   "id": "52ce8f8c",
   "metadata": {},
   "outputs": [],
   "source": [
    "balance_dataset=pd.concat((deal_status_code_Lost, deal_status_code_Won_over_sampled), axis=0)"
   ]
  },
  {
   "cell_type": "code",
   "execution_count": 49,
   "id": "022eccad",
   "metadata": {
    "scrolled": true
   },
   "outputs": [
    {
     "data": {
      "text/html": [
       "<div>\n",
       "<style scoped>\n",
       "    .dataframe tbody tr th:only-of-type {\n",
       "        vertical-align: middle;\n",
       "    }\n",
       "\n",
       "    .dataframe tbody tr th {\n",
       "        vertical-align: top;\n",
       "    }\n",
       "\n",
       "    .dataframe thead th {\n",
       "        text-align: right;\n",
       "    }\n",
       "</style>\n",
       "<table border=\"1\" class=\"dataframe\">\n",
       "  <thead>\n",
       "    <tr style=\"text-align: right;\">\n",
       "      <th></th>\n",
       "      <th>Deal Cost</th>\n",
       "      <th>Deal Status Code</th>\n",
       "      <th>Solution Type</th>\n",
       "      <th>Client Category</th>\n",
       "      <th>Sector</th>\n",
       "      <th>Location</th>\n",
       "      <th>VP Name</th>\n",
       "      <th>Manager Name</th>\n",
       "    </tr>\n",
       "  </thead>\n",
       "  <tbody>\n",
       "    <tr>\n",
       "      <th>2</th>\n",
       "      <td>60000.00</td>\n",
       "      <td>0</td>\n",
       "      <td>0.322176</td>\n",
       "      <td>0.522696</td>\n",
       "      <td>0.503234</td>\n",
       "      <td>0.478580</td>\n",
       "      <td>0.625455</td>\n",
       "      <td>0.636364</td>\n",
       "    </tr>\n",
       "    <tr>\n",
       "      <th>3</th>\n",
       "      <td>60000.00</td>\n",
       "      <td>0</td>\n",
       "      <td>0.322176</td>\n",
       "      <td>0.522696</td>\n",
       "      <td>0.503234</td>\n",
       "      <td>0.478580</td>\n",
       "      <td>0.625455</td>\n",
       "      <td>0.636364</td>\n",
       "    </tr>\n",
       "    <tr>\n",
       "      <th>4</th>\n",
       "      <td>80882.35</td>\n",
       "      <td>0</td>\n",
       "      <td>0.564976</td>\n",
       "      <td>0.522696</td>\n",
       "      <td>0.503234</td>\n",
       "      <td>0.478580</td>\n",
       "      <td>0.625455</td>\n",
       "      <td>0.636364</td>\n",
       "    </tr>\n",
       "    <tr>\n",
       "      <th>5</th>\n",
       "      <td>80882.35</td>\n",
       "      <td>0</td>\n",
       "      <td>0.564976</td>\n",
       "      <td>0.522696</td>\n",
       "      <td>0.503234</td>\n",
       "      <td>0.478580</td>\n",
       "      <td>0.625455</td>\n",
       "      <td>0.636364</td>\n",
       "    </tr>\n",
       "    <tr>\n",
       "      <th>7</th>\n",
       "      <td>409705.88</td>\n",
       "      <td>0</td>\n",
       "      <td>0.348315</td>\n",
       "      <td>0.289256</td>\n",
       "      <td>0.200000</td>\n",
       "      <td>0.402062</td>\n",
       "      <td>0.361925</td>\n",
       "      <td>0.289720</td>\n",
       "    </tr>\n",
       "  </tbody>\n",
       "</table>\n",
       "</div>"
      ],
      "text/plain": [
       "   Deal Cost  Deal Status Code  Solution Type  Client Category    Sector  \\\n",
       "2   60000.00                 0       0.322176         0.522696  0.503234   \n",
       "3   60000.00                 0       0.322176         0.522696  0.503234   \n",
       "4   80882.35                 0       0.564976         0.522696  0.503234   \n",
       "5   80882.35                 0       0.564976         0.522696  0.503234   \n",
       "7  409705.88                 0       0.348315         0.289256  0.200000   \n",
       "\n",
       "   Location   VP Name  Manager Name  \n",
       "2  0.478580  0.625455      0.636364  \n",
       "3  0.478580  0.625455      0.636364  \n",
       "4  0.478580  0.625455      0.636364  \n",
       "5  0.478580  0.625455      0.636364  \n",
       "7  0.402062  0.361925      0.289720  "
      ]
     },
     "execution_count": 49,
     "metadata": {},
     "output_type": "execute_result"
    }
   ],
   "source": [
    "balance_dataset.head()"
   ]
  },
  {
   "cell_type": "code",
   "execution_count": 50,
   "id": "7498dbe2",
   "metadata": {},
   "outputs": [
    {
     "data": {
      "text/plain": [
       "0    6306\n",
       "1    6306\n",
       "Name: Deal Status Code, dtype: int64"
      ]
     },
     "execution_count": 50,
     "metadata": {},
     "output_type": "execute_result"
    }
   ],
   "source": [
    "balance_dataset[\"Deal Status Code\"].value_counts()"
   ]
  },
  {
   "cell_type": "code",
   "execution_count": 51,
   "id": "050d5af4",
   "metadata": {},
   "outputs": [
    {
     "data": {
      "text/plain": [
       "Text(0, 0.5, ' Deal Status Code')"
      ]
     },
     "execution_count": 51,
     "metadata": {},
     "output_type": "execute_result"
    },
    {
     "data": {
      "image/png": "[encoded data removed]",
      "text/plain": [
       "<Figure size 360x360 with 1 Axes>"
      ]
     },
     "metadata": {
      "needs_background": "light"
     },
     "output_type": "display_data"
    }
   ],
   "source": [
    "plt.figure(figsize=(5,5))\n",
    "balance_dataset[\"Deal Status Code\"].value_counts().plot(kind=\"bar\")\n",
    "plt.title(\"Barplot for Deal Status Code\")\n",
    "plt.ylabel(\" Deal Status Code\")"
   ]
  },
  {
   "cell_type": "markdown",
   "id": "617ae698",
   "metadata": {},
   "source": [
    "# Model Creation "
   ]
  },
  {
   "cell_type": "code",
   "execution_count": 52,
   "id": "276df5dc",
   "metadata": {},
   "outputs": [],
   "source": [
    "from sklearn.model_selection import train_test_split\n",
    "x=balance_dataset.drop(['Deal Status Code'], axis =1)\n",
    "y=balance_dataset['Deal Status Code']"
   ]
  },
  {
   "cell_type": "code",
   "execution_count": 53,
   "id": "fa1a6e17",
   "metadata": {},
   "outputs": [],
   "source": [
    "x_train,x_test,y_train,y_test=train_test_split(x,y,random_state=123, test_size=0.3)"
   ]
  },
  {
   "cell_type": "code",
   "execution_count": 54,
   "id": "b6d847e9",
   "metadata": {},
   "outputs": [
    {
     "name": "stdout",
     "output_type": "stream",
     "text": [
      "<class 'pandas.core.frame.DataFrame'>\n",
      "Int64Index: 8828 entries, 4753 to 5620\n",
      "Data columns (total 7 columns):\n",
      " #   Column           Non-Null Count  Dtype  \n",
      "---  ------           --------------  -----  \n",
      " 0   Deal Cost        8828 non-null   float64\n",
      " 1   Solution Type    8828 non-null   float64\n",
      " 2   Client Category  8828 non-null   float64\n",
      " 3   Sector           8828 non-null   float64\n",
      " 4   Location         8828 non-null   float64\n",
      " 5   VP Name          8828 non-null   float64\n",
      " 6   Manager Name     8828 non-null   float64\n",
      "dtypes: float64(7)\n",
      "memory usage: 551.8 KB\n"
     ]
    }
   ],
   "source": [
    "x_train.info()"
   ]
  },
  {
   "cell_type": "markdown",
   "id": "257d1f8d",
   "metadata": {},
   "source": [
    "# Logistic Regression"
   ]
  },
  {
   "cell_type": "code",
   "execution_count": 55,
   "id": "8ff2fe72",
   "metadata": {},
   "outputs": [
    {
     "data": {
      "text/plain": [
       "LogisticRegression()"
      ]
     },
     "execution_count": 55,
     "metadata": {},
     "output_type": "execute_result"
    }
   ],
   "source": [
    "from sklearn.linear_model import LogisticRegression\n",
    "log_reg=LogisticRegression()\n",
    "log_reg.fit(x_train,y_train)"
   ]
  },
  {
   "cell_type": "code",
   "execution_count": 56,
   "id": "74489609",
   "metadata": {},
   "outputs": [
    {
     "name": "stdout",
     "output_type": "stream",
     "text": [
      "Optimization terminated successfully.\n",
      "         Current function value: 0.638276\n",
      "         Iterations 5\n",
      "                          Results: Logit\n",
      "==================================================================\n",
      "Model:              Logit            Pseudo R-squared: 0.079      \n",
      "Dependent Variable: Deal Status Code AIC:              11283.3974 \n",
      "Date:               2022-09-27 23:36 BIC:              11332.9972 \n",
      "No. Observations:   8828             Log-Likelihood:   -5634.7    \n",
      "Df Model:           6                LL-Null:          -6118.8    \n",
      "Df Residuals:       8821             LLR p-value:      6.4597e-206\n",
      "Converged:          1.0000           Scale:            1.0000     \n",
      "No. Iterations:     5.0000                                        \n",
      "------------------------------------------------------------------\n",
      "                   Coef.  Std.Err.    z     P>|z|   [0.025  0.975]\n",
      "------------------------------------------------------------------\n",
      "Deal Cost         -0.0000   0.0000  -1.7415 0.0816 -0.0000  0.0000\n",
      "Solution Type      1.2408   0.2072   5.9871 0.0000  0.8346  1.6469\n",
      "Client Category    2.1196   0.2816   7.5272 0.0000  1.5677  2.6715\n",
      "Sector            -2.4655   0.3519  -7.0060 0.0000 -3.1552 -1.7757\n",
      "Location          -4.2165   0.3794 -11.1127 0.0000 -4.9601 -3.4728\n",
      "VP Name           -0.2266   0.2361  -0.9600 0.3370 -0.6894  0.2361\n",
      "Manager Name       3.6952   0.1630  22.6739 0.0000  3.3758  4.0146\n",
      "==================================================================\n",
      "\n"
     ]
    }
   ],
   "source": [
    "import statsmodels.api as sm\n",
    "logit_model=sm.Logit(y_train,x_train).fit()\n",
    "print(logit_model.summary2())"
   ]
  },
  {
   "cell_type": "code",
   "execution_count": 57,
   "id": "25a03ef9",
   "metadata": {},
   "outputs": [
    {
     "data": {
      "text/plain": [
       "array([1, 1, 1, ..., 1, 1, 1], dtype=int64)"
      ]
     },
     "execution_count": 57,
     "metadata": {},
     "output_type": "execute_result"
    }
   ],
   "source": [
    "y_pred_LR=log_reg.predict(x_test)\n",
    "y_pred_LR"
   ]
  },
  {
   "cell_type": "code",
   "execution_count": 58,
   "id": "1850baf8",
   "metadata": {},
   "outputs": [
    {
     "name": "stdout",
     "output_type": "stream",
     "text": [
      "              precision    recall  f1-score   support\n",
      "\n",
      "           0       0.00      0.00      0.00      1926\n",
      "           1       0.49      1.00      0.66      1858\n",
      "\n",
      "    accuracy                           0.49      3784\n",
      "   macro avg       0.25      0.50      0.33      3784\n",
      "weighted avg       0.24      0.49      0.32      3784\n",
      "\n"
     ]
    }
   ],
   "source": [
    "from sklearn.metrics import classification_report\n",
    "from sklearn.metrics import confusion_matrix\n",
    "print(classification_report(y_test,y_pred_LR))"
   ]
  },
  {
   "cell_type": "code",
   "execution_count": 59,
   "id": "e8b10c50",
   "metadata": {},
   "outputs": [
    {
     "name": "stdout",
     "output_type": "stream",
     "text": [
      "[[   0 1926]\n",
      " [   0 1858]]\n"
     ]
    }
   ],
   "source": [
    "print(confusion_matrix(y_test,y_pred_LR))"
   ]
  },
  {
   "cell_type": "markdown",
   "id": "9a2f34bf",
   "metadata": {},
   "source": [
    "# SVM "
   ]
  },
  {
   "cell_type": "code",
   "execution_count": 60,
   "id": "d85af484",
   "metadata": {},
   "outputs": [
    {
     "data": {
      "text/plain": [
       "SVC(random_state=42)"
      ]
     },
     "execution_count": 60,
     "metadata": {},
     "output_type": "execute_result"
    }
   ],
   "source": [
    "from sklearn.svm import SVC\n",
    "svm_model=SVC(kernel=\"rbf\",C=1.0, random_state=42)\n",
    "svm_model.fit(x_train,y_train)"
   ]
  },
  {
   "cell_type": "code",
   "execution_count": 61,
   "id": "99a29607",
   "metadata": {},
   "outputs": [
    {
     "data": {
      "text/plain": [
       "array([0, 0, 1, ..., 0, 0, 0], dtype=int64)"
      ]
     },
     "execution_count": 61,
     "metadata": {},
     "output_type": "execute_result"
    }
   ],
   "source": [
    "y_pred_svm=svm_model.predict(x_test)\n",
    "y_pred_svm"
   ]
  },
  {
   "cell_type": "code",
   "execution_count": 62,
   "id": "effa6b2d",
   "metadata": {},
   "outputs": [
    {
     "name": "stdout",
     "output_type": "stream",
     "text": [
      "              precision    recall  f1-score   support\n",
      "\n",
      "           0       0.56      0.58      0.57      1926\n",
      "           1       0.55      0.53      0.54      1858\n",
      "\n",
      "    accuracy                           0.56      3784\n",
      "   macro avg       0.56      0.56      0.56      3784\n",
      "weighted avg       0.56      0.56      0.56      3784\n",
      "\n"
     ]
    }
   ],
   "source": [
    "print(classification_report(y_test,y_pred_svm))  "
   ]
  },
  {
   "cell_type": "code",
   "execution_count": 63,
   "id": "8b56d5ef",
   "metadata": {},
   "outputs": [
    {
     "name": "stdout",
     "output_type": "stream",
     "text": [
      "[[1116  810]\n",
      " [ 865  993]]\n"
     ]
    }
   ],
   "source": [
    "print(confusion_matrix(y_test,y_pred_svm))"
   ]
  },
  {
   "cell_type": "markdown",
   "id": "c73e158c",
   "metadata": {},
   "source": [
    "# Decision Tree"
   ]
  },
  {
   "cell_type": "code",
   "execution_count": 64,
   "id": "5cadf508",
   "metadata": {},
   "outputs": [],
   "source": [
    "from sklearn.tree import DecisionTreeClassifier\n",
    "dt=DecisionTreeClassifier(criterion=\"entropy\",random_state=0)"
   ]
  },
  {
   "cell_type": "code",
   "execution_count": 65,
   "id": "057aa14a",
   "metadata": {},
   "outputs": [],
   "source": [
    "model_dt=dt.fit(x_train,y_train)"
   ]
  },
  {
   "cell_type": "code",
   "execution_count": 66,
   "id": "e245382f",
   "metadata": {},
   "outputs": [
    {
     "data": {
      "text/plain": [
       "array([0, 1, 0, ..., 1, 0, 0], dtype=int64)"
      ]
     },
     "execution_count": 66,
     "metadata": {},
     "output_type": "execute_result"
    }
   ],
   "source": [
    "y_pred_DT=model_dt.predict(x_test)\n",
    "y_pred_DT"
   ]
  },
  {
   "cell_type": "code",
   "execution_count": 67,
   "id": "43ea1a75",
   "metadata": {},
   "outputs": [
    {
     "name": "stdout",
     "output_type": "stream",
     "text": [
      "              precision    recall  f1-score   support\n",
      "\n",
      "           0       0.87      0.89      0.88      1926\n",
      "           1       0.88      0.87      0.88      1858\n",
      "\n",
      "    accuracy                           0.88      3784\n",
      "   macro avg       0.88      0.88      0.88      3784\n",
      "weighted avg       0.88      0.88      0.88      3784\n",
      "\n"
     ]
    }
   ],
   "source": [
    "print(classification_report(y_test,y_pred_DT))"
   ]
  },
  {
   "cell_type": "code",
   "execution_count": 68,
   "id": "91d5dcd6",
   "metadata": {},
   "outputs": [
    {
     "name": "stdout",
     "output_type": "stream",
     "text": [
      "[[1716  210]\n",
      " [ 247 1611]]\n"
     ]
    }
   ],
   "source": [
    "matrix=confusion_matrix(y_test,y_pred_DT)\n",
    "print(matrix)"
   ]
  },
  {
   "cell_type": "code",
   "execution_count": 69,
   "id": "b3e20b50",
   "metadata": {},
   "outputs": [
    {
     "name": "stdout",
     "output_type": "stream",
     "text": [
      "Train accuracy: 0.9963751699139103\n",
      "Test accuracy: 0.8792283298097252\n"
     ]
    }
   ],
   "source": [
    "from sklearn.metrics import accuracy_score\n",
    "\n",
    "train_pred_DT=model_dt.predict(x_train)\n",
    "print(\"Train accuracy:\", accuracy_score(y_train, train_pred_DT))\n",
    "print(\"Test accuracy:\",(accuracy_score(y_test, y_pred_DT)))"
   ]
  },
  {
   "cell_type": "code",
   "execution_count": 70,
   "id": "27a5ed35",
   "metadata": {},
   "outputs": [
    {
     "data": {
      "image/png": "[encoded data removed]",
      "text/plain": [
       "<Figure size 432x288 with 1 Axes>"
      ]
     },
     "metadata": {
      "needs_background": "light"
     },
     "output_type": "display_data"
    }
   ],
   "source": [
    "from sklearn import metrics\n",
    "y_pred_proba=model_dt.predict_proba(x_test)[::,1]\n",
    "fpr,tpr, _ =metrics.roc_curve(y_test,y_pred_proba)\n",
    "auc=metrics.roc_auc_score(y_test,y_pred_proba)\n",
    "plt.plot(fpr,tpr,label=\"data1, auc=\"+str(auc))\n",
    "plt.legend(loc=4)\n",
    "plt.show()"
   ]
  },
  {
   "cell_type": "markdown",
   "id": "6bacfdc5",
   "metadata": {},
   "source": [
    "# KNN "
   ]
  },
  {
   "cell_type": "code",
   "execution_count": 71,
   "id": "13c1186d",
   "metadata": {},
   "outputs": [
    {
     "data": {
      "text/plain": [
       "KNeighborsClassifier(n_neighbors=11)"
      ]
     },
     "execution_count": 71,
     "metadata": {},
     "output_type": "execute_result"
    }
   ],
   "source": [
    "from sklearn.neighbors import KNeighborsClassifier\n",
    "neigh=KNeighborsClassifier(n_neighbors=11, weights=\"uniform\",algorithm=\"auto\")\n",
    "neigh.fit(x_train,y_train)"
   ]
  },
  {
   "cell_type": "code",
   "execution_count": 72,
   "id": "264d1073",
   "metadata": {},
   "outputs": [
    {
     "data": {
      "text/plain": [
       "array([1, 1, 0, ..., 0, 0, 0], dtype=int64)"
      ]
     },
     "execution_count": 72,
     "metadata": {},
     "output_type": "execute_result"
    }
   ],
   "source": [
    "y_pred_knn= neigh.predict(x_test)\n",
    "y_pred_knn"
   ]
  },
  {
   "cell_type": "code",
   "execution_count": 73,
   "id": "3aa60ab9",
   "metadata": {},
   "outputs": [
    {
     "name": "stdout",
     "output_type": "stream",
     "text": [
      "              precision    recall  f1-score   support\n",
      "\n",
      "           0       0.72      0.69      0.70      1926\n",
      "           1       0.69      0.72      0.70      1858\n",
      "\n",
      "    accuracy                           0.70      3784\n",
      "   macro avg       0.70      0.70      0.70      3784\n",
      "weighted avg       0.70      0.70      0.70      3784\n",
      "\n"
     ]
    }
   ],
   "source": [
    "print(classification_report(y_test,y_pred_knn))"
   ]
  },
  {
   "cell_type": "code",
   "execution_count": 74,
   "id": "40f9cf24",
   "metadata": {},
   "outputs": [
    {
     "name": "stdout",
     "output_type": "stream",
     "text": [
      "[[1327  599]\n",
      " [ 528 1330]]\n"
     ]
    }
   ],
   "source": [
    "print(confusion_matrix(y_test,y_pred_knn))"
   ]
  },
  {
   "cell_type": "markdown",
   "id": "410d8d02",
   "metadata": {},
   "source": [
    "# Random Forest"
   ]
  },
  {
   "cell_type": "code",
   "execution_count": 75,
   "id": "6c37ba8e",
   "metadata": {},
   "outputs": [],
   "source": [
    "from sklearn.ensemble import RandomForestClassifier\n",
    "rfc= RandomForestClassifier()\n",
    "rfcmodel=rfc.fit(x_train,y_train)"
   ]
  },
  {
   "cell_type": "code",
   "execution_count": 76,
   "id": "251e2f25",
   "metadata": {},
   "outputs": [],
   "source": [
    "from sklearn.metrics import classification_report,confusion_matrix"
   ]
  },
  {
   "cell_type": "code",
   "execution_count": 77,
   "id": "1dd5d1ef",
   "metadata": {},
   "outputs": [
    {
     "data": {
      "text/plain": [
       "array([0, 1, 0, ..., 1, 0, 0], dtype=int64)"
      ]
     },
     "execution_count": 77,
     "metadata": {},
     "output_type": "execute_result"
    }
   ],
   "source": [
    "y_pred_RF=rfcmodel.predict(x_test)\n",
    "y_pred_RF"
   ]
  },
  {
   "cell_type": "code",
   "execution_count": 78,
   "id": "fce1e78f",
   "metadata": {},
   "outputs": [
    {
     "name": "stdout",
     "output_type": "stream",
     "text": [
      "              precision    recall  f1-score   support\n",
      "\n",
      "           0       0.88      0.92      0.90      1926\n",
      "           1       0.91      0.87      0.89      1858\n",
      "\n",
      "    accuracy                           0.90      3784\n",
      "   macro avg       0.90      0.90      0.90      3784\n",
      "weighted avg       0.90      0.90      0.90      3784\n",
      "\n"
     ]
    }
   ],
   "source": [
    "print(classification_report(y_test,y_pred_RF))"
   ]
  },
  {
   "cell_type": "code",
   "execution_count": 79,
   "id": "7b596d97",
   "metadata": {},
   "outputs": [
    {
     "name": "stdout",
     "output_type": "stream",
     "text": [
      "[[1770  156]\n",
      " [ 235 1623]]\n"
     ]
    }
   ],
   "source": [
    "matrix=confusion_matrix(y_test,y_pred_RF)\n",
    "print(matrix)"
   ]
  },
  {
   "cell_type": "code",
   "execution_count": 80,
   "id": "4c0c47b3",
   "metadata": {},
   "outputs": [
    {
     "name": "stdout",
     "output_type": "stream",
     "text": [
      "Train accuracy: 0.9963751699139103\n",
      "Test accuracy: 0.8966701902748414\n"
     ]
    }
   ],
   "source": [
    "from sklearn.metrics import accuracy_score\n",
    "\n",
    "train_pred_RF=rfcmodel.predict(x_train)\n",
    "print(\"Train accuracy:\", accuracy_score(y_train, train_pred_RF))\n",
    "print(\"Test accuracy:\",(accuracy_score(y_test, y_pred_RF)))"
   ]
  },
  {
   "cell_type": "code",
   "execution_count": 81,
   "id": "cd8530f9",
   "metadata": {},
   "outputs": [
    {
     "data": {
      "image/png": "[encoded data removed]",
      "text/plain": [
       "<Figure size 432x288 with 1 Axes>"
      ]
     },
     "metadata": {
      "needs_background": "light"
     },
     "output_type": "display_data"
    }
   ],
   "source": [
    "y_pred_proba=rfcmodel.predict_proba(x_test)[::,1]\n",
    "fpr,tpr, _ =metrics.roc_curve(y_test,y_pred_proba)\n",
    "auc=metrics.roc_auc_score(y_test,y_pred_proba)\n",
    "plt.plot(fpr,tpr,label=\"data1, auc=\"+str(auc))\n",
    "plt.legend(loc=4)\n",
    "plt.show()"
   ]
  },
  {
   "cell_type": "markdown",
   "id": "6f44f0fe",
   "metadata": {},
   "source": [
    "# Checking for overfitting, Train score - 87%, Test Score - 80%"
   ]
  },
  {
   "cell_type": "code",
   "execution_count": 82,
   "id": "b59dd281",
   "metadata": {},
   "outputs": [],
   "source": [
    "from sklearn.model_selection import cross_val_score\n",
    "from sklearn.model_selection import KFold\n",
    "kfold=KFold(n_splits=10)\n",
    "rf_validation_score_train=cross_val_score(rfcmodel,x_train,y_train,cv= kfold, scoring = \"accuracy\")"
   ]
  },
  {
   "cell_type": "code",
   "execution_count": 83,
   "id": "1dbcb0b8",
   "metadata": {},
   "outputs": [
    {
     "data": {
      "text/plain": [
       "array([0.89694224, 0.88788222, 0.8810872 , 0.88335221, 0.88674972,\n",
       "       0.89467724, 0.8810872 , 0.90033975, 0.90249433, 0.88662132])"
      ]
     },
     "execution_count": 83,
     "metadata": {},
     "output_type": "execute_result"
    }
   ],
   "source": [
    "rf_validation_score_train"
   ]
  },
  {
   "cell_type": "code",
   "execution_count": 84,
   "id": "92276163",
   "metadata": {},
   "outputs": [
    {
     "data": {
      "text/plain": [
       "(0.8901233426552956, 0.007499811886337256)"
      ]
     },
     "execution_count": 84,
     "metadata": {},
     "output_type": "execute_result"
    }
   ],
   "source": [
    "rf_validation_score_train.mean(), rf_validation_score_train.std()"
   ]
  },
  {
   "cell_type": "code",
   "execution_count": 85,
   "id": "d79b1bf3",
   "metadata": {},
   "outputs": [],
   "source": [
    "rf_validation_score_test=cross_val_score(rfcmodel,x_test,y_test,cv=10)"
   ]
  },
  {
   "cell_type": "code",
   "execution_count": 86,
   "id": "c6586f32",
   "metadata": {},
   "outputs": [
    {
     "data": {
      "text/plain": [
       "array([0.78100264, 0.82058047, 0.7994723 , 0.78891821, 0.77513228,\n",
       "       0.76719577, 0.74074074, 0.81481481, 0.80952381, 0.78042328])"
      ]
     },
     "execution_count": 86,
     "metadata": {},
     "output_type": "execute_result"
    }
   ],
   "source": [
    "rf_validation_score_test"
   ]
  },
  {
   "cell_type": "code",
   "execution_count": 87,
   "id": "1675931d",
   "metadata": {},
   "outputs": [
    {
     "data": {
      "text/plain": [
       "0.7877804302606414"
      ]
     },
     "execution_count": 87,
     "metadata": {},
     "output_type": "execute_result"
    }
   ],
   "source": [
    "rf_validation_score_test.mean()"
   ]
  },
  {
   "cell_type": "markdown",
   "id": "c0794756",
   "metadata": {},
   "source": [
    "# Hyper Parameter Tuning for Random Forest"
   ]
  },
  {
   "cell_type": "code",
   "execution_count": 88,
   "id": "01ef9889",
   "metadata": {},
   "outputs": [],
   "source": [
    "parameters={\n",
    "    'n_estimators': [100,150,200,250,300,400],\n",
    "    'max_depth':[2,4,6,10,20],\n",
    "    'min_samples_split':[2,5,10,20,35,50],\n",
    "    'min_samples_leaf':[1,2,10,50,100,150,200], #important #default numbers   \n",
    "}"
   ]
  },
  {
   "cell_type": "markdown",
   "id": "247b7fc0",
   "metadata": {},
   "source": [
    "# RansomSearchCV"
   ]
  },
  {
   "cell_type": "code",
   "execution_count": 93,
   "id": "3f3a7101",
   "metadata": {},
   "outputs": [],
   "source": [
    "from sklearn.model_selection import RandomizedSearchCV\n",
    "rf_randomGrid=RandomizedSearchCV(estimator = random_forest,param_distributions=parameters,cv=10,verbose =2, n_jobs =4)"
   ]
  },
  {
   "cell_type": "code",
   "execution_count": 94,
   "id": "23351ad0",
   "metadata": {
    "scrolled": true
   },
   "outputs": [
    {
     "name": "stdout",
     "output_type": "stream",
     "text": [
      "Fitting 10 folds for each of 10 candidates, totalling 100 fits\n"
     ]
    },
    {
     "data": {
      "text/plain": [
       "RandomizedSearchCV(cv=10, estimator=RandomForestClassifier(), n_jobs=4,\n",
       "                   param_distributions={'max_depth': [2, 4, 6, 10, 20],\n",
       "                                        'min_samples_leaf': [1, 2, 10, 50, 100,\n",
       "                                                             150, 200],\n",
       "                                        'min_samples_split': [2, 5, 10, 20, 35,\n",
       "                                                              50],\n",
       "                                        'n_estimators': [100, 150, 200, 250,\n",
       "                                                         300, 400]},\n",
       "                   verbose=2)"
      ]
     },
     "execution_count": 94,
     "metadata": {},
     "output_type": "execute_result"
    }
   ],
   "source": [
    "rf_randomGrid.fit(x_train,y_train)"
   ]
  },
  {
   "cell_type": "code",
   "execution_count": 95,
   "id": "532c106a",
   "metadata": {},
   "outputs": [
    {
     "data": {
      "text/plain": [
       "{'n_estimators': 100,\n",
       " 'min_samples_split': 2,\n",
       " 'min_samples_leaf': 1,\n",
       " 'max_depth': 10}"
      ]
     },
     "execution_count": 95,
     "metadata": {},
     "output_type": "execute_result"
    }
   ],
   "source": [
    "rf_randomGrid.best_params_"
   ]
  },
  {
   "cell_type": "code",
   "execution_count": 96,
   "id": "614887ef",
   "metadata": {},
   "outputs": [
    {
     "name": "stdout",
     "output_type": "stream",
     "text": [
      "Train Accuracy - : 0.855\n",
      "Test Accuracy - : 0.794\n"
     ]
    }
   ],
   "source": [
    "#checking accuracy \n",
    "print(f'Train Accuracy - : {rf_randomGrid.score(x_train,y_train):.3f}')\n",
    "print(f'Test Accuracy - : {rf_randomGrid.score(x_test,y_test):.3f}')"
   ]
  },
  {
   "cell_type": "markdown",
   "id": "6f2ef6f5",
   "metadata": {},
   "source": [
    "# Training and Test Accuracy is almost same for RandomSearchCV and GridSearch"
   ]
  },
  {
   "cell_type": "markdown",
   "id": "cc5977e8",
   "metadata": {},
   "source": [
    "# Random Forest Model with best Parameters"
   ]
  },
  {
   "cell_type": "code",
   "execution_count": 97,
   "id": "2430366f",
   "metadata": {
    "scrolled": true
   },
   "outputs": [],
   "source": [
    "better_model=RandomForestClassifier(max_depth=20,min_samples_leaf = 10,\n",
    "                                    min_samples_split = 10,n_estimators =300)\n",
    "\n",
    "\n"
   ]
  },
  {
   "cell_type": "code",
   "execution_count": 98,
   "id": "cde36794",
   "metadata": {},
   "outputs": [
    {
     "data": {
      "text/plain": [
       "RandomForestClassifier(max_depth=20, min_samples_leaf=10, min_samples_split=10,\n",
       "                       n_estimators=300)"
      ]
     },
     "execution_count": 98,
     "metadata": {},
     "output_type": "execute_result"
    }
   ],
   "source": [
    "better_model.fit(x_train,y_train)"
   ]
  },
  {
   "cell_type": "code",
   "execution_count": 114,
   "id": "014caddb",
   "metadata": {},
   "outputs": [],
   "source": [
    "y_pred_better_model=better_model.predict(x_test)"
   ]
  },
  {
   "cell_type": "code",
   "execution_count": 115,
   "id": "a3949697",
   "metadata": {},
   "outputs": [
    {
     "name": "stdout",
     "output_type": "stream",
     "text": [
      "              precision    recall  f1-score   support\n",
      "\n",
      "           0       0.89      0.92      0.90      1926\n",
      "           1       0.91      0.88      0.90      1858\n",
      "\n",
      "    accuracy                           0.90      3784\n",
      "   macro avg       0.90      0.90      0.90      3784\n",
      "weighted avg       0.90      0.90      0.90      3784\n",
      "\n"
     ]
    }
   ],
   "source": [
    "print(classification_report(y_test,y_pred_better_model))"
   ]
  },
  {
   "cell_type": "code",
   "execution_count": 116,
   "id": "8736d3e0",
   "metadata": {},
   "outputs": [
    {
     "data": {
      "text/plain": [
       "array([[1768,  158],\n",
       "       [ 224, 1634]], dtype=int64)"
      ]
     },
     "execution_count": 116,
     "metadata": {},
     "output_type": "execute_result"
    }
   ],
   "source": [
    "confusion_matrix(y_test,y_pred_better_model)"
   ]
  },
  {
   "cell_type": "code",
   "execution_count": 117,
   "id": "c6361e4b",
   "metadata": {},
   "outputs": [],
   "source": [
    "better_model=cross_val_score(better_model,x_train,y_train,cv=10)"
   ]
  },
  {
   "cell_type": "code",
   "execution_count": 118,
   "id": "939216a6",
   "metadata": {},
   "outputs": [
    {
     "data": {
      "text/plain": [
       "array([0.89241223, 0.89354473, 0.89014723, 0.89127973, 0.89014723,\n",
       "       0.89580974, 0.89014723, 0.90147225, 0.88662132, 0.89569161])"
      ]
     },
     "execution_count": 118,
     "metadata": {},
     "output_type": "execute_result"
    }
   ],
   "source": [
    "better_model"
   ]
  },
  {
   "cell_type": "code",
   "execution_count": 119,
   "id": "95a48812",
   "metadata": {},
   "outputs": [
    {
     "data": {
      "text/plain": [
       "0.8927273287570975"
      ]
     },
     "execution_count": 119,
     "metadata": {},
     "output_type": "execute_result"
    }
   ],
   "source": [
    "better_model.mean()"
   ]
  },
  {
   "cell_type": "markdown",
   "id": "942c48f1",
   "metadata": {},
   "source": [
    "# Xgboost"
   ]
  },
  {
   "cell_type": "code",
   "execution_count": 121,
   "id": "13646ccb",
   "metadata": {},
   "outputs": [
    {
     "name": "stdout",
     "output_type": "stream",
     "text": [
      "Collecting xgboost\n",
      "  Downloading xgboost-1.6.2-py3-none-win_amd64.whl (125.4 MB)\n",
      "Requirement already satisfied: numpy in c:\\users\\system h822\\anaconda3\\lib\\site-packages (from xgboost) (1.21.5)\n",
      "Requirement already satisfied: scipy in c:\\users\\system h822\\anaconda3\\lib\\site-packages (from xgboost) (1.7.3)\n",
      "Installing collected packages: xgboost\n",
      "Successfully installed xgboost-1.6.2\n"
     ]
    }
   ],
   "source": [
    "! pip install xgboost"
   ]
  },
  {
   "cell_type": "code",
   "execution_count": 122,
   "id": "6871e264",
   "metadata": {},
   "outputs": [],
   "source": [
    "#from xgboost import XGBClassifier"
   ]
  },
  {
   "cell_type": "code",
   "execution_count": 124,
   "id": "c129e28e",
   "metadata": {},
   "outputs": [
    {
     "data": {
      "text/plain": [
       "XGBClassifier(base_score=0.5, booster='gbtree', callbacks=None,\n",
       "              colsample_bylevel=1, colsample_bynode=1, colsample_bytree=1,\n",
       "              early_stopping_rounds=None, enable_categorical=False,\n",
       "              eval_metric=None, gamma=0, gpu_id=-1, grow_policy='depthwise',\n",
       "              importance_type=None, interaction_constraints='',\n",
       "              learning_rate=0.300000012, max_bin=256, max_cat_to_onehot=4,\n",
       "              max_delta_step=0, max_depth=6, max_leaves=0, min_child_weight=1,\n",
       "              missing=nan, monotone_constraints='()', n_estimators=100,\n",
       "              n_jobs=0, num_parallel_tree=1, predictor='auto', random_state=0,\n",
       "              reg_alpha=0, reg_lambda=1, ...)"
      ]
     },
     "execution_count": 124,
     "metadata": {},
     "output_type": "execute_result"
    }
   ],
   "source": [
    "from sklearn.model_selection import cross_val_score\n",
    "xgboost_model=XGBClassifier()\n",
    "xgboost_model.fit(x_train,y_train)"
   ]
  },
  {
   "cell_type": "code",
   "execution_count": 127,
   "id": "370874f5",
   "metadata": {},
   "outputs": [],
   "source": [
    "model = XGBClassifier()\n",
    "model.fit(x_train, y_train)\n",
    "y_pred_xg = model.predict(x_test)"
   ]
  },
  {
   "cell_type": "code",
   "execution_count": 128,
   "id": "0ee0fefe",
   "metadata": {},
   "outputs": [
    {
     "name": "stdout",
     "output_type": "stream",
     "text": [
      "              precision    recall  f1-score   support\n",
      "\n",
      "           0       0.85      0.85      0.85      1926\n",
      "           1       0.84      0.85      0.84      1858\n",
      "\n",
      "    accuracy                           0.85      3784\n",
      "   macro avg       0.85      0.85      0.85      3784\n",
      "weighted avg       0.85      0.85      0.85      3784\n",
      "\n"
     ]
    }
   ],
   "source": [
    "print(classification_report(y_test, y_pred_xg))"
   ]
  },
  {
   "cell_type": "code",
   "execution_count": 129,
   "id": "822c2b4d",
   "metadata": {},
   "outputs": [
    {
     "name": "stdout",
     "output_type": "stream",
     "text": [
      "[[1631  295]\n",
      " [ 285 1573]]\n"
     ]
    }
   ],
   "source": [
    "print(confusion_matrix(y_test,y_pred_xg))"
   ]
  },
  {
   "cell_type": "markdown",
   "id": "6223ebda",
   "metadata": {},
   "source": [
    "# Hyperparameter Tuning for XGboost"
   ]
  },
  {
   "cell_type": "code",
   "execution_count": 130,
   "id": "0b436677",
   "metadata": {},
   "outputs": [],
   "source": [
    "params={\n",
    "    \"learning_rate\" : [0.05,0.10,0.15,0.20,0.25,0.30,0.50,0.70,0.90],\n",
    "    \"max_depth\" : [3,4,5,6,8,10,12,15,20,25,30,35],\n",
    "    \"min_child_weight\" : [1,3,5,7,11],\n",
    "    \"gamma\" : [0.0,0.1,0.2,0.3,0.4,0.6],\n",
    "    \"colsample_bytree\" : [0.3,0.4,0.5,0.7,0.9],\n",
    "    \"n_estimator\" : [150,250,300,500]\n",
    "}"
   ]
  },
  {
   "cell_type": "code",
   "execution_count": 131,
   "id": "47f0660e",
   "metadata": {},
   "outputs": [],
   "source": [
    "from sklearn.model_selection import RandomizedSearchCV"
   ]
  },
  {
   "cell_type": "code",
   "execution_count": 132,
   "id": "c3ae8708",
   "metadata": {},
   "outputs": [],
   "source": [
    "import xgboost\n",
    "classifier=xgboost.XGBClassifier()"
   ]
  },
  {
   "cell_type": "code",
   "execution_count": 133,
   "id": "4936a8ab",
   "metadata": {},
   "outputs": [],
   "source": [
    "random_search=RandomizedSearchCV(classifier, param_distributions=params,n_iter=5,\n",
    "                                 scoring=\"roc_auc\",n_jobs = -1, cv=5,verbose = 1)"
   ]
  },
  {
   "cell_type": "code",
   "execution_count": 134,
   "id": "2dae77e3",
   "metadata": {
    "scrolled": true
   },
   "outputs": [
    {
     "name": "stdout",
     "output_type": "stream",
     "text": [
      "Fitting 5 folds for each of 5 candidates, totalling 25 fits\n",
      "[16:46:52] WARNING: C:/Users/administrator/workspace/xgboost-win64_release_1.6.0/src/learner.cc:627: \n",
      "Parameters: { \"n_estimator\" } might not be used.\n",
      "\n",
      "  This could be a false alarm, with some parameters getting used by language bindings but\n",
      "  then being mistakenly passed down to XGBoost core, or some parameter actually being used\n",
      "  but getting flagged wrongly here. Please open an issue if you find any such cases.\n",
      "\n",
      "\n"
     ]
    },
    {
     "data": {
      "text/plain": [
       "RandomizedSearchCV(cv=5,\n",
       "                   estimator=XGBClassifier(base_score=None, booster=None,\n",
       "                                           callbacks=None,\n",
       "                                           colsample_bylevel=None,\n",
       "                                           colsample_bynode=None,\n",
       "                                           colsample_bytree=None,\n",
       "                                           early_stopping_rounds=None,\n",
       "                                           enable_categorical=False,\n",
       "                                           eval_metric=None, gamma=None,\n",
       "                                           gpu_id=None, grow_policy=None,\n",
       "                                           importance_type=None,\n",
       "                                           interaction_constraints=None,\n",
       "                                           learning_rate=None, max_bin=None,...\n",
       "                                           predictor=None, random_state=None,\n",
       "                                           reg_alpha=None, reg_lambda=None, ...),\n",
       "                   n_iter=5, n_jobs=-1,\n",
       "                   param_distributions={'colsample_bytree': [0.3, 0.4, 0.5, 0.7,\n",
       "                                                             0.9],\n",
       "                                        'gamma': [0.0, 0.1, 0.2, 0.3, 0.4, 0.6],\n",
       "                                        'learning_rate': [0.05, 0.1, 0.15, 0.2,\n",
       "                                                          0.25, 0.3, 0.5, 0.7,\n",
       "                                                          0.9],\n",
       "                                        'max_depth': [3, 4, 5, 6, 8, 10, 12, 15,\n",
       "                                                      20, 25, 30, 35],\n",
       "                                        'min_child_weight': [1, 3, 5, 7, 11],\n",
       "                                        'n_estimator': [150, 250, 300, 500]},\n",
       "                   scoring='roc_auc', verbose=1)"
      ]
     },
     "execution_count": 134,
     "metadata": {},
     "output_type": "execute_result"
    }
   ],
   "source": [
    "random_search.fit(x_train,y_train)"
   ]
  },
  {
   "cell_type": "code",
   "execution_count": 135,
   "id": "c269f5f9",
   "metadata": {},
   "outputs": [
    {
     "data": {
      "text/plain": [
       "XGBClassifier(base_score=0.5, booster='gbtree', callbacks=None,\n",
       "              colsample_bylevel=1, colsample_bynode=1, colsample_bytree=0.5,\n",
       "              early_stopping_rounds=None, enable_categorical=False,\n",
       "              eval_metric=None, gamma=0.2, gpu_id=-1, grow_policy='depthwise',\n",
       "              importance_type=None, interaction_constraints='',\n",
       "              learning_rate=0.2, max_bin=256, max_cat_to_onehot=4,\n",
       "              max_delta_step=0, max_depth=20, max_leaves=0, min_child_weight=3,\n",
       "              missing=nan, monotone_constraints='()', n_estimator=500,\n",
       "              n_estimators=100, n_jobs=0, num_parallel_tree=1, predictor='auto',\n",
       "              random_state=0, reg_alpha=0, ...)"
      ]
     },
     "execution_count": 135,
     "metadata": {},
     "output_type": "execute_result"
    }
   ],
   "source": [
    "random_search.best_estimator_"
   ]
  },
  {
   "cell_type": "code",
   "execution_count": 136,
   "id": "96ee082d",
   "metadata": {},
   "outputs": [
    {
     "data": {
      "text/plain": [
       "{'n_estimator': 500,\n",
       " 'min_child_weight': 3,\n",
       " 'max_depth': 20,\n",
       " 'learning_rate': 0.2,\n",
       " 'gamma': 0.2,\n",
       " 'colsample_bytree': 0.5}"
      ]
     },
     "execution_count": 136,
     "metadata": {},
     "output_type": "execute_result"
    }
   ],
   "source": [
    "random_search.best_params_"
   ]
  },
  {
   "cell_type": "code",
   "execution_count": 137,
   "id": "7a484aa9",
   "metadata": {},
   "outputs": [],
   "source": [
    "import xgboost\n",
    "classifier_best_params=xgboost.XGBClassifier(n_estimator=500,min_child_weight = 3,\n",
    "                                             max_depth= 15,learning_rate=0.05,gamma = 0.1,\n",
    "                                             colsample_bytree = 0.7)\n"
   ]
  },
  {
   "cell_type": "code",
   "execution_count": 138,
   "id": "3ec47ce9",
   "metadata": {},
   "outputs": [
    {
     "name": "stdout",
     "output_type": "stream",
     "text": [
      "[16:47:59] WARNING: C:/Users/administrator/workspace/xgboost-win64_release_1.6.0/src/learner.cc:627: \n",
      "Parameters: { \"n_estimator\" } might not be used.\n",
      "\n",
      "  This could be a false alarm, with some parameters getting used by language bindings but\n",
      "  then being mistakenly passed down to XGBoost core, or some parameter actually being used\n",
      "  but getting flagged wrongly here. Please open an issue if you find any such cases.\n",
      "\n",
      "\n"
     ]
    },
    {
     "data": {
      "text/plain": [
       "XGBClassifier(base_score=0.5, booster='gbtree', callbacks=None,\n",
       "              colsample_bylevel=1, colsample_bynode=1, colsample_bytree=0.7,\n",
       "              early_stopping_rounds=None, enable_categorical=False,\n",
       "              eval_metric=None, gamma=0.4, gpu_id=-1, grow_policy='depthwise',\n",
       "              importance_type=None, interaction_constraints='',\n",
       "              learning_rate=0.7, max_bin=256, max_cat_to_onehot=4,\n",
       "              max_delta_step=0, max_depth=20, max_leaves=0, min_child_weight=1,\n",
       "              missing=nan, monotone_constraints='()', n_estimator=300,\n",
       "              n_estimators=100, n_jobs=0, num_parallel_tree=1, predictor='auto',\n",
       "              random_state=0, reg_alpha=0, ...)"
      ]
     },
     "execution_count": 138,
     "metadata": {},
     "output_type": "execute_result"
    }
   ],
   "source": [
    "classifier_best_params.fit(x_train,y_train)"
   ]
  },
  {
   "cell_type": "code",
   "execution_count": 139,
   "id": "82ab9b49",
   "metadata": {},
   "outputs": [],
   "source": [
    "y_pred_classifier=classifier_best_params.predict(x_test)"
   ]
  },
  {
   "cell_type": "code",
   "execution_count": 140,
   "id": "9dfa7d8d",
   "metadata": {},
   "outputs": [
    {
     "name": "stdout",
     "output_type": "stream",
     "text": [
      "              precision    recall  f1-score   support\n",
      "\n",
      "           0       0.90      0.91      0.90      1926\n",
      "           1       0.90      0.90      0.90      1858\n",
      "\n",
      "    accuracy                           0.90      3784\n",
      "   macro avg       0.90      0.90      0.90      3784\n",
      "weighted avg       0.90      0.90      0.90      3784\n",
      "\n"
     ]
    }
   ],
   "source": [
    "print(classification_report(y_test,y_pred_classifier))"
   ]
  },
  {
   "cell_type": "code",
   "execution_count": 141,
   "id": "c48a7c67",
   "metadata": {},
   "outputs": [
    {
     "data": {
      "text/plain": [
       "array([[1747,  179],\n",
       "       [ 188, 1670]], dtype=int64)"
      ]
     },
     "execution_count": 141,
     "metadata": {},
     "output_type": "execute_result"
    }
   ],
   "source": [
    "confusion_matrix(y_test,y_pred_classifier)"
   ]
  },
  {
   "cell_type": "code",
   "execution_count": 142,
   "id": "f33110ef",
   "metadata": {
    "scrolled": true
   },
   "outputs": [
    {
     "name": "stdout",
     "output_type": "stream",
     "text": [
      "[16:48:13] WARNING: C:/Users/administrator/workspace/xgboost-win64_release_1.6.0/src/learner.cc:627: \n",
      "Parameters: { \"n_estimator\" } might not be used.\n",
      "\n",
      "  This could be a false alarm, with some parameters getting used by language bindings but\n",
      "  then being mistakenly passed down to XGBoost core, or some parameter actually being used\n",
      "  but getting flagged wrongly here. Please open an issue if you find any such cases.\n",
      "\n",
      "\n",
      "[16:48:15] WARNING: C:/Users/administrator/workspace/xgboost-win64_release_1.6.0/src/learner.cc:627: \n",
      "Parameters: { \"n_estimator\" } might not be used.\n",
      "\n",
      "  This could be a false alarm, with some parameters getting used by language bindings but\n",
      "  then being mistakenly passed down to XGBoost core, or some parameter actually being used\n",
      "  but getting flagged wrongly here. Please open an issue if you find any such cases.\n",
      "\n",
      "\n",
      "[16:48:16] WARNING: C:/Users/administrator/workspace/xgboost-win64_release_1.6.0/src/learner.cc:627: \n",
      "Parameters: { \"n_estimator\" } might not be used.\n",
      "\n",
      "  This could be a false alarm, with some parameters getting used by language bindings but\n",
      "  then being mistakenly passed down to XGBoost core, or some parameter actually being used\n",
      "  but getting flagged wrongly here. Please open an issue if you find any such cases.\n",
      "\n",
      "\n",
      "[16:48:18] WARNING: C:/Users/administrator/workspace/xgboost-win64_release_1.6.0/src/learner.cc:627: \n",
      "Parameters: { \"n_estimator\" } might not be used.\n",
      "\n",
      "  This could be a false alarm, with some parameters getting used by language bindings but\n",
      "  then being mistakenly passed down to XGBoost core, or some parameter actually being used\n",
      "  but getting flagged wrongly here. Please open an issue if you find any such cases.\n",
      "\n",
      "\n",
      "[16:48:19] WARNING: C:/Users/administrator/workspace/xgboost-win64_release_1.6.0/src/learner.cc:627: \n",
      "Parameters: { \"n_estimator\" } might not be used.\n",
      "\n",
      "  This could be a false alarm, with some parameters getting used by language bindings but\n",
      "  then being mistakenly passed down to XGBoost core, or some parameter actually being used\n",
      "  but getting flagged wrongly here. Please open an issue if you find any such cases.\n",
      "\n",
      "\n",
      "[16:48:21] WARNING: C:/Users/administrator/workspace/xgboost-win64_release_1.6.0/src/learner.cc:627: \n",
      "Parameters: { \"n_estimator\" } might not be used.\n",
      "\n",
      "  This could be a false alarm, with some parameters getting used by language bindings but\n",
      "  then being mistakenly passed down to XGBoost core, or some parameter actually being used\n",
      "  but getting flagged wrongly here. Please open an issue if you find any such cases.\n",
      "\n",
      "\n",
      "[16:48:23] WARNING: C:/Users/administrator/workspace/xgboost-win64_release_1.6.0/src/learner.cc:627: \n",
      "Parameters: { \"n_estimator\" } might not be used.\n",
      "\n",
      "  This could be a false alarm, with some parameters getting used by language bindings but\n",
      "  then being mistakenly passed down to XGBoost core, or some parameter actually being used\n",
      "  but getting flagged wrongly here. Please open an issue if you find any such cases.\n",
      "\n",
      "\n",
      "[16:48:25] WARNING: C:/Users/administrator/workspace/xgboost-win64_release_1.6.0/src/learner.cc:627: \n",
      "Parameters: { \"n_estimator\" } might not be used.\n",
      "\n",
      "  This could be a false alarm, with some parameters getting used by language bindings but\n",
      "  then being mistakenly passed down to XGBoost core, or some parameter actually being used\n",
      "  but getting flagged wrongly here. Please open an issue if you find any such cases.\n",
      "\n",
      "\n",
      "[16:48:27] WARNING: C:/Users/administrator/workspace/xgboost-win64_release_1.6.0/src/learner.cc:627: \n",
      "Parameters: { \"n_estimator\" } might not be used.\n",
      "\n",
      "  This could be a false alarm, with some parameters getting used by language bindings but\n",
      "  then being mistakenly passed down to XGBoost core, or some parameter actually being used\n",
      "  but getting flagged wrongly here. Please open an issue if you find any such cases.\n",
      "\n",
      "\n",
      "[16:48:28] WARNING: C:/Users/administrator/workspace/xgboost-win64_release_1.6.0/src/learner.cc:627: \n",
      "Parameters: { \"n_estimator\" } might not be used.\n",
      "\n",
      "  This could be a false alarm, with some parameters getting used by language bindings but\n",
      "  then being mistakenly passed down to XGBoost core, or some parameter actually being used\n",
      "  but getting flagged wrongly here. Please open an issue if you find any such cases.\n",
      "\n",
      "\n"
     ]
    }
   ],
   "source": [
    "validation_score=cross_val_score(classifier_best_params,x_train,y_train,cv=10)"
   ]
  },
  {
   "cell_type": "code",
   "execution_count": 143,
   "id": "066c7bc3",
   "metadata": {},
   "outputs": [
    {
     "data": {
      "text/plain": [
       "array([0.88561721, 0.89241223, 0.88901472, 0.90713477, 0.8788222 ,\n",
       "       0.89580974, 0.88901472, 0.91166478, 0.88208617, 0.8968254 ])"
      ]
     },
     "execution_count": 143,
     "metadata": {},
     "output_type": "execute_result"
    }
   ],
   "source": [
    "validation_score"
   ]
  },
  {
   "cell_type": "code",
   "execution_count": 144,
   "id": "ee189e94",
   "metadata": {},
   "outputs": [
    {
     "data": {
      "text/plain": [
       "0.8928401938351784"
      ]
     },
     "execution_count": 144,
     "metadata": {},
     "output_type": "execute_result"
    }
   ],
   "source": [
    "validation_score.mean()"
   ]
  },
  {
   "cell_type": "code",
   "execution_count": 145,
   "id": "2ef0fa01",
   "metadata": {},
   "outputs": [
    {
     "data": {
      "text/plain": [
       "(179, 7)"
      ]
     },
     "execution_count": 145,
     "metadata": {},
     "output_type": "execute_result"
    }
   ],
   "source": [
    "type2=x_test[(y_pred_classifier == 1) & (y_test == 0)]  #one way\n",
    "type2.shape"
   ]
  },
  {
   "cell_type": "code",
   "execution_count": 146,
   "id": "baed5ee4",
   "metadata": {},
   "outputs": [
    {
     "data": {
      "text/plain": [
       "(188, 7)"
      ]
     },
     "execution_count": 146,
     "metadata": {},
     "output_type": "execute_result"
    }
   ],
   "source": [
    "type1=x_test[(y_pred_classifier == 0) & (y_test == 1)] #one way\n",
    "type1.shape"
   ]
  },
  {
   "cell_type": "code",
   "execution_count": 147,
   "id": "3d62ae17",
   "metadata": {},
   "outputs": [
    {
     "data": {
      "text/html": [
       "<div>\n",
       "<style scoped>\n",
       "    .dataframe tbody tr th:only-of-type {\n",
       "        vertical-align: middle;\n",
       "    }\n",
       "\n",
       "    .dataframe tbody tr th {\n",
       "        vertical-align: top;\n",
       "    }\n",
       "\n",
       "    .dataframe thead th {\n",
       "        text-align: right;\n",
       "    }\n",
       "</style>\n",
       "<table border=\"1\" class=\"dataframe\">\n",
       "  <thead>\n",
       "    <tr style=\"text-align: right;\">\n",
       "      <th></th>\n",
       "      <th>Deal Cost</th>\n",
       "      <th>Solution Type</th>\n",
       "      <th>Client Category</th>\n",
       "      <th>Sector</th>\n",
       "      <th>Location</th>\n",
       "      <th>VP Name</th>\n",
       "      <th>Manager Name</th>\n",
       "    </tr>\n",
       "  </thead>\n",
       "  <tbody>\n",
       "    <tr>\n",
       "      <th>8311</th>\n",
       "      <td>1441176.47</td>\n",
       "      <td>0.302752</td>\n",
       "      <td>0.353963</td>\n",
       "      <td>0.571428</td>\n",
       "      <td>0.402062</td>\n",
       "      <td>0.421053</td>\n",
       "      <td>0.333333</td>\n",
       "    </tr>\n",
       "    <tr>\n",
       "      <th>7741</th>\n",
       "      <td>2117647.06</td>\n",
       "      <td>0.564976</td>\n",
       "      <td>0.482955</td>\n",
       "      <td>0.391014</td>\n",
       "      <td>0.419847</td>\n",
       "      <td>0.476190</td>\n",
       "      <td>0.511111</td>\n",
       "    </tr>\n",
       "    <tr>\n",
       "      <th>5796</th>\n",
       "      <td>1852941.18</td>\n",
       "      <td>0.564976</td>\n",
       "      <td>0.353963</td>\n",
       "      <td>0.377163</td>\n",
       "      <td>0.402062</td>\n",
       "      <td>0.625455</td>\n",
       "      <td>0.550000</td>\n",
       "    </tr>\n",
       "    <tr>\n",
       "      <th>1010</th>\n",
       "      <td>591176.47</td>\n",
       "      <td>0.564976</td>\n",
       "      <td>0.353963</td>\n",
       "      <td>0.391014</td>\n",
       "      <td>0.359712</td>\n",
       "      <td>0.372727</td>\n",
       "      <td>0.562500</td>\n",
       "    </tr>\n",
       "    <tr>\n",
       "      <th>7007</th>\n",
       "      <td>1397058.82</td>\n",
       "      <td>0.245283</td>\n",
       "      <td>0.522696</td>\n",
       "      <td>0.452575</td>\n",
       "      <td>0.402062</td>\n",
       "      <td>0.361925</td>\n",
       "      <td>0.448276</td>\n",
       "    </tr>\n",
       "  </tbody>\n",
       "</table>\n",
       "</div>"
      ],
      "text/plain": [
       "       Deal Cost  Solution Type  Client Category    Sector  Location  \\\n",
       "8311  1441176.47       0.302752         0.353963  0.571428  0.402062   \n",
       "7741  2117647.06       0.564976         0.482955  0.391014  0.419847   \n",
       "5796  1852941.18       0.564976         0.353963  0.377163  0.402062   \n",
       "1010   591176.47       0.564976         0.353963  0.391014  0.359712   \n",
       "7007  1397058.82       0.245283         0.522696  0.452575  0.402062   \n",
       "\n",
       "       VP Name  Manager Name  \n",
       "8311  0.421053      0.333333  \n",
       "7741  0.476190      0.511111  \n",
       "5796  0.625455      0.550000  \n",
       "1010  0.372727      0.562500  \n",
       "7007  0.361925      0.448276  "
      ]
     },
     "execution_count": 147,
     "metadata": {},
     "output_type": "execute_result"
    }
   ],
   "source": [
    "join=x_test[y_test != y_pred_classifier] #2nd way\n",
    "join.head()"
   ]
  },
  {
   "cell_type": "code",
   "execution_count": 148,
   "id": "9a9f6ebd",
   "metadata": {},
   "outputs": [
    {
     "data": {
      "text/html": [
       "<div>\n",
       "<style scoped>\n",
       "    .dataframe tbody tr th:only-of-type {\n",
       "        vertical-align: middle;\n",
       "    }\n",
       "\n",
       "    .dataframe tbody tr th {\n",
       "        vertical-align: top;\n",
       "    }\n",
       "\n",
       "    .dataframe thead th {\n",
       "        text-align: right;\n",
       "    }\n",
       "</style>\n",
       "<table border=\"1\" class=\"dataframe\">\n",
       "  <thead>\n",
       "    <tr style=\"text-align: right;\">\n",
       "      <th></th>\n",
       "      <th>Client Category</th>\n",
       "      <th>Solution Type</th>\n",
       "      <th>Deal Date</th>\n",
       "      <th>Sector</th>\n",
       "      <th>Location</th>\n",
       "      <th>VP Name</th>\n",
       "      <th>Manager Name</th>\n",
       "      <th>Deal Cost</th>\n",
       "      <th>Deal Status Code</th>\n",
       "    </tr>\n",
       "  </thead>\n",
       "  <tbody>\n",
       "    <tr>\n",
       "      <th>0</th>\n",
       "      <td>Telecom</td>\n",
       "      <td>Solution 7</td>\n",
       "      <td>2012-03-27</td>\n",
       "      <td>Sector 24</td>\n",
       "      <td>L5</td>\n",
       "      <td>Ekta Zutshi</td>\n",
       "      <td>Gopa Trilochana</td>\n",
       "      <td>150000.00</td>\n",
       "      <td>Won</td>\n",
       "    </tr>\n",
       "    <tr>\n",
       "      <th>1</th>\n",
       "      <td>Telecom</td>\n",
       "      <td>Solution 7</td>\n",
       "      <td>2012-09-25</td>\n",
       "      <td>Sector 24</td>\n",
       "      <td>L5</td>\n",
       "      <td>Ekta Zutshi</td>\n",
       "      <td>Gopa Trilochana</td>\n",
       "      <td>744705.88</td>\n",
       "      <td>Won</td>\n",
       "    </tr>\n",
       "    <tr>\n",
       "      <th>2</th>\n",
       "      <td>Internal</td>\n",
       "      <td>Solution 59</td>\n",
       "      <td>2011-08-01</td>\n",
       "      <td>Sector 20</td>\n",
       "      <td>Others</td>\n",
       "      <td>Ekta Zutshi</td>\n",
       "      <td>Russell Dahlen</td>\n",
       "      <td>60000.00</td>\n",
       "      <td>Lost</td>\n",
       "    </tr>\n",
       "    <tr>\n",
       "      <th>3</th>\n",
       "      <td>Internal</td>\n",
       "      <td>Solution 59</td>\n",
       "      <td>2011-04-28</td>\n",
       "      <td>Sector 20</td>\n",
       "      <td>Others</td>\n",
       "      <td>Ekta Zutshi</td>\n",
       "      <td>Russell Dahlen</td>\n",
       "      <td>60000.00</td>\n",
       "      <td>Lost</td>\n",
       "    </tr>\n",
       "    <tr>\n",
       "      <th>4</th>\n",
       "      <td>Internal</td>\n",
       "      <td>Solution 32</td>\n",
       "      <td>2011-06-03</td>\n",
       "      <td>Sector 20</td>\n",
       "      <td>Others</td>\n",
       "      <td>Ekta Zutshi</td>\n",
       "      <td>Russell Dahlen</td>\n",
       "      <td>80882.35</td>\n",
       "      <td>Lost</td>\n",
       "    </tr>\n",
       "  </tbody>\n",
       "</table>\n",
       "</div>"
      ],
      "text/plain": [
       "  Client Category Solution Type  Deal Date     Sector Location      VP Name  \\\n",
       "0         Telecom    Solution 7 2012-03-27  Sector 24       L5  Ekta Zutshi   \n",
       "1         Telecom    Solution 7 2012-09-25  Sector 24       L5  Ekta Zutshi   \n",
       "2        Internal   Solution 59 2011-08-01  Sector 20   Others  Ekta Zutshi   \n",
       "3        Internal   Solution 59 2011-04-28  Sector 20   Others  Ekta Zutshi   \n",
       "4        Internal   Solution 32 2011-06-03  Sector 20   Others  Ekta Zutshi   \n",
       "\n",
       "      Manager Name  Deal Cost Deal Status Code  \n",
       "0  Gopa Trilochana  150000.00              Won  \n",
       "1  Gopa Trilochana  744705.88              Won  \n",
       "2   Russell Dahlen   60000.00             Lost  \n",
       "3   Russell Dahlen   60000.00             Lost  \n",
       "4   Russell Dahlen   80882.35             Lost  "
      ]
     },
     "execution_count": 148,
     "metadata": {},
     "output_type": "execute_result"
    }
   ],
   "source": [
    "data_copy.head()"
   ]
  },
  {
   "cell_type": "code",
   "execution_count": 149,
   "id": "07f3a4cc",
   "metadata": {},
   "outputs": [],
   "source": [
    "dataframe=pd.DataFrame(data_copy)"
   ]
  },
  {
   "cell_type": "code",
   "execution_count": 150,
   "id": "6abb3fe7",
   "metadata": {},
   "outputs": [
    {
     "data": {
      "text/html": [
       "<div>\n",
       "<style scoped>\n",
       "    .dataframe tbody tr th:only-of-type {\n",
       "        vertical-align: middle;\n",
       "    }\n",
       "\n",
       "    .dataframe tbody tr th {\n",
       "        vertical-align: top;\n",
       "    }\n",
       "\n",
       "    .dataframe thead th {\n",
       "        text-align: right;\n",
       "    }\n",
       "</style>\n",
       "<table border=\"1\" class=\"dataframe\">\n",
       "  <thead>\n",
       "    <tr style=\"text-align: right;\">\n",
       "      <th></th>\n",
       "      <th>Client Category</th>\n",
       "      <th>Solution Type</th>\n",
       "      <th>Deal Date</th>\n",
       "      <th>Sector</th>\n",
       "      <th>Location</th>\n",
       "      <th>VP Name</th>\n",
       "      <th>Manager Name</th>\n",
       "      <th>Deal Cost</th>\n",
       "      <th>Deal Status Code</th>\n",
       "    </tr>\n",
       "  </thead>\n",
       "  <tbody>\n",
       "    <tr>\n",
       "      <th>0</th>\n",
       "      <td>Telecom</td>\n",
       "      <td>Solution 7</td>\n",
       "      <td>2012-03-27</td>\n",
       "      <td>Sector 24</td>\n",
       "      <td>L5</td>\n",
       "      <td>Ekta Zutshi</td>\n",
       "      <td>Gopa Trilochana</td>\n",
       "      <td>150000.00</td>\n",
       "      <td>Won</td>\n",
       "    </tr>\n",
       "    <tr>\n",
       "      <th>1</th>\n",
       "      <td>Telecom</td>\n",
       "      <td>Solution 7</td>\n",
       "      <td>2012-09-25</td>\n",
       "      <td>Sector 24</td>\n",
       "      <td>L5</td>\n",
       "      <td>Ekta Zutshi</td>\n",
       "      <td>Gopa Trilochana</td>\n",
       "      <td>744705.88</td>\n",
       "      <td>Won</td>\n",
       "    </tr>\n",
       "    <tr>\n",
       "      <th>2</th>\n",
       "      <td>Internal</td>\n",
       "      <td>Solution 59</td>\n",
       "      <td>2011-08-01</td>\n",
       "      <td>Sector 20</td>\n",
       "      <td>Others</td>\n",
       "      <td>Ekta Zutshi</td>\n",
       "      <td>Russell Dahlen</td>\n",
       "      <td>60000.00</td>\n",
       "      <td>Lost</td>\n",
       "    </tr>\n",
       "    <tr>\n",
       "      <th>3</th>\n",
       "      <td>Internal</td>\n",
       "      <td>Solution 59</td>\n",
       "      <td>2011-04-28</td>\n",
       "      <td>Sector 20</td>\n",
       "      <td>Others</td>\n",
       "      <td>Ekta Zutshi</td>\n",
       "      <td>Russell Dahlen</td>\n",
       "      <td>60000.00</td>\n",
       "      <td>Lost</td>\n",
       "    </tr>\n",
       "    <tr>\n",
       "      <th>4</th>\n",
       "      <td>Internal</td>\n",
       "      <td>Solution 32</td>\n",
       "      <td>2011-06-03</td>\n",
       "      <td>Sector 20</td>\n",
       "      <td>Others</td>\n",
       "      <td>Ekta Zutshi</td>\n",
       "      <td>Russell Dahlen</td>\n",
       "      <td>80882.35</td>\n",
       "      <td>Lost</td>\n",
       "    </tr>\n",
       "  </tbody>\n",
       "</table>\n",
       "</div>"
      ],
      "text/plain": [
       "  Client Category Solution Type  Deal Date     Sector Location      VP Name  \\\n",
       "0         Telecom    Solution 7 2012-03-27  Sector 24       L5  Ekta Zutshi   \n",
       "1         Telecom    Solution 7 2012-09-25  Sector 24       L5  Ekta Zutshi   \n",
       "2        Internal   Solution 59 2011-08-01  Sector 20   Others  Ekta Zutshi   \n",
       "3        Internal   Solution 59 2011-04-28  Sector 20   Others  Ekta Zutshi   \n",
       "4        Internal   Solution 32 2011-06-03  Sector 20   Others  Ekta Zutshi   \n",
       "\n",
       "      Manager Name  Deal Cost Deal Status Code  \n",
       "0  Gopa Trilochana  150000.00              Won  \n",
       "1  Gopa Trilochana  744705.88              Won  \n",
       "2   Russell Dahlen   60000.00             Lost  \n",
       "3   Russell Dahlen   60000.00             Lost  \n",
       "4   Russell Dahlen   80882.35             Lost  "
      ]
     },
     "execution_count": 150,
     "metadata": {},
     "output_type": "execute_result"
    }
   ],
   "source": [
    "dataframe.head()"
   ]
  },
  {
   "cell_type": "code",
   "execution_count": null,
   "id": "3b5a4a20",
   "metadata": {},
   "outputs": [],
   "source": []
  },
  {
   "cell_type": "code",
   "execution_count": null,
   "id": "89e2ce90",
   "metadata": {},
   "outputs": [],
   "source": []
  }
 ],
 "metadata": {
  "kernelspec": {
   "display_name": "Python 3 (ipykernel)",
   "language": "python",
   "name": "python3"
  },
  "language_info": {
   "codemirror_mode": {
    "name": "ipython",
    "version": 3
   },
   "file_extension": ".py",
   "mimetype": "text/x-python",
   "name": "python",
   "nbconvert_exporter": "python",
   "pygments_lexer": "ipython3",
   "version": "3.9.12"
  }
 },
 "nbformat": 4,
 "nbformat_minor": 5
}
